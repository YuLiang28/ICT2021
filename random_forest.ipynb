{
 "cells": [
  {
   "cell_type": "code",
   "execution_count": 39,
   "id": "87a5dee7-c85f-465a-ad9c-e6d22514ed3c",
   "metadata": {},
   "outputs": [],
   "source": [
    "from sklearn.ensemble import RandomForestClassifier\n",
    "from sklearn.datasets import make_classification\n",
    "from sklearn import datasets\n",
    "iris = datasets.load_iris()\n",
    "\n"
   ]
  },
  {
   "cell_type": "code",
   "execution_count": null,
   "id": "13704800-3aa0-4b4e-8dc8-6f4c818ed3e3",
   "metadata": {},
   "outputs": [],
   "source": []
  },
  {
   "cell_type": "code",
   "execution_count": 40,
   "id": "7f9a643c-a75c-4e93-ba3f-9e2381ea0fca",
   "metadata": {},
   "outputs": [
    {
     "data": {
      "text/plain": [
       "array([5.4, 3.7, 1.5, 0.2])"
      ]
     },
     "execution_count": 40,
     "metadata": {},
     "output_type": "execute_result"
    }
   ],
   "source": [
    "X = iris.data \n",
    "X[10]"
   ]
  },
  {
   "cell_type": "code",
   "execution_count": 41,
   "id": "6d21c004-4a69-43bf-94bb-0e3cbb0d9d96",
   "metadata": {},
   "outputs": [
    {
     "data": {
      "text/plain": [
       "0"
      ]
     },
     "execution_count": 41,
     "metadata": {},
     "output_type": "execute_result"
    }
   ],
   "source": [
    "y = iris.target\n",
    "y[10]"
   ]
  },
  {
   "cell_type": "code",
   "execution_count": 42,
   "id": "7a50b7c7-3b3a-4b54-ba12-ba93aea123a7",
   "metadata": {},
   "outputs": [
    {
     "name": "stdout",
     "output_type": "stream",
     "text": [
      "[0]\n"
     ]
    }
   ],
   "source": [
    "clf = RandomForestClassifier(max_depth=2, random_state=0,n_estimators=50,max_features=3)\n",
    "clf.fit(X, y)\n",
    "print(clf.predict([X[10]]))"
   ]
  },
  {
   "cell_type": "code",
   "execution_count": 43,
   "id": "a033b071-0931-4940-a469-ff4a79faf58b",
   "metadata": {},
   "outputs": [
    {
     "name": "stdout",
     "output_type": "stream",
     "text": [
      "[6.72589053e-05 0.00000000e+00 4.59259049e-01 5.40673692e-01]\n"
     ]
    }
   ],
   "source": [
    "print(clf.feature_importances_)"
   ]
  },
  {
   "cell_type": "code",
   "execution_count": 44,
   "id": "04267e91-cb46-4a08-a5a5-d25a60593633",
   "metadata": {},
   "outputs": [
    {
     "data": {
      "text/plain": [
       "array([[1.4, 0.2],\n",
       "       [1.4, 0.2],\n",
       "       [1.3, 0.2],\n",
       "       [1.5, 0.2],\n",
       "       [1.4, 0.2],\n",
       "       [1.7, 0.4],\n",
       "       [1.4, 0.3],\n",
       "       [1.5, 0.2],\n",
       "       [1.4, 0.2],\n",
       "       [1.5, 0.1],\n",
       "       [1.5, 0.2],\n",
       "       [1.6, 0.2],\n",
       "       [1.4, 0.1],\n",
       "       [1.1, 0.1],\n",
       "       [1.2, 0.2],\n",
       "       [1.5, 0.4],\n",
       "       [1.3, 0.4],\n",
       "       [1.4, 0.3],\n",
       "       [1.7, 0.3],\n",
       "       [1.5, 0.3],\n",
       "       [1.7, 0.2],\n",
       "       [1.5, 0.4],\n",
       "       [1. , 0.2],\n",
       "       [1.7, 0.5],\n",
       "       [1.9, 0.2],\n",
       "       [1.6, 0.2],\n",
       "       [1.6, 0.4],\n",
       "       [1.5, 0.2],\n",
       "       [1.4, 0.2],\n",
       "       [1.6, 0.2],\n",
       "       [1.6, 0.2],\n",
       "       [1.5, 0.4],\n",
       "       [1.5, 0.1],\n",
       "       [1.4, 0.2],\n",
       "       [1.5, 0.2],\n",
       "       [1.2, 0.2],\n",
       "       [1.3, 0.2],\n",
       "       [1.4, 0.1],\n",
       "       [1.3, 0.2],\n",
       "       [1.5, 0.2],\n",
       "       [1.3, 0.3],\n",
       "       [1.3, 0.3],\n",
       "       [1.3, 0.2],\n",
       "       [1.6, 0.6],\n",
       "       [1.9, 0.4],\n",
       "       [1.4, 0.3],\n",
       "       [1.6, 0.2],\n",
       "       [1.4, 0.2],\n",
       "       [1.5, 0.2],\n",
       "       [1.4, 0.2],\n",
       "       [4.7, 1.4],\n",
       "       [4.5, 1.5],\n",
       "       [4.9, 1.5],\n",
       "       [4. , 1.3],\n",
       "       [4.6, 1.5],\n",
       "       [4.5, 1.3],\n",
       "       [4.7, 1.6],\n",
       "       [3.3, 1. ],\n",
       "       [4.6, 1.3],\n",
       "       [3.9, 1.4],\n",
       "       [3.5, 1. ],\n",
       "       [4.2, 1.5],\n",
       "       [4. , 1. ],\n",
       "       [4.7, 1.4],\n",
       "       [3.6, 1.3],\n",
       "       [4.4, 1.4],\n",
       "       [4.5, 1.5],\n",
       "       [4.1, 1. ],\n",
       "       [4.5, 1.5],\n",
       "       [3.9, 1.1],\n",
       "       [4.8, 1.8],\n",
       "       [4. , 1.3],\n",
       "       [4.9, 1.5],\n",
       "       [4.7, 1.2],\n",
       "       [4.3, 1.3],\n",
       "       [4.4, 1.4],\n",
       "       [4.8, 1.4],\n",
       "       [5. , 1.7],\n",
       "       [4.5, 1.5],\n",
       "       [3.5, 1. ],\n",
       "       [3.8, 1.1],\n",
       "       [3.7, 1. ],\n",
       "       [3.9, 1.2],\n",
       "       [5.1, 1.6],\n",
       "       [4.5, 1.5],\n",
       "       [4.5, 1.6],\n",
       "       [4.7, 1.5],\n",
       "       [4.4, 1.3],\n",
       "       [4.1, 1.3],\n",
       "       [4. , 1.3],\n",
       "       [4.4, 1.2],\n",
       "       [4.6, 1.4],\n",
       "       [4. , 1.2],\n",
       "       [3.3, 1. ],\n",
       "       [4.2, 1.3],\n",
       "       [4.2, 1.2],\n",
       "       [4.2, 1.3],\n",
       "       [4.3, 1.3],\n",
       "       [3. , 1.1],\n",
       "       [4.1, 1.3],\n",
       "       [6. , 2.5],\n",
       "       [5.1, 1.9],\n",
       "       [5.9, 2.1],\n",
       "       [5.6, 1.8],\n",
       "       [5.8, 2.2],\n",
       "       [6.6, 2.1],\n",
       "       [4.5, 1.7],\n",
       "       [6.3, 1.8],\n",
       "       [5.8, 1.8],\n",
       "       [6.1, 2.5],\n",
       "       [5.1, 2. ],\n",
       "       [5.3, 1.9],\n",
       "       [5.5, 2.1],\n",
       "       [5. , 2. ],\n",
       "       [5.1, 2.4],\n",
       "       [5.3, 2.3],\n",
       "       [5.5, 1.8],\n",
       "       [6.7, 2.2],\n",
       "       [6.9, 2.3],\n",
       "       [5. , 1.5],\n",
       "       [5.7, 2.3],\n",
       "       [4.9, 2. ],\n",
       "       [6.7, 2. ],\n",
       "       [4.9, 1.8],\n",
       "       [5.7, 2.1],\n",
       "       [6. , 1.8],\n",
       "       [4.8, 1.8],\n",
       "       [4.9, 1.8],\n",
       "       [5.6, 2.1],\n",
       "       [5.8, 1.6],\n",
       "       [6.1, 1.9],\n",
       "       [6.4, 2. ],\n",
       "       [5.6, 2.2],\n",
       "       [5.1, 1.5],\n",
       "       [5.6, 1.4],\n",
       "       [6.1, 2.3],\n",
       "       [5.6, 2.4],\n",
       "       [5.5, 1.8],\n",
       "       [4.8, 1.8],\n",
       "       [5.4, 2.1],\n",
       "       [5.6, 2.4],\n",
       "       [5.1, 2.3],\n",
       "       [5.1, 1.9],\n",
       "       [5.9, 2.3],\n",
       "       [5.7, 2.5],\n",
       "       [5.2, 2.3],\n",
       "       [5. , 1.9],\n",
       "       [5.2, 2. ],\n",
       "       [5.4, 2.3],\n",
       "       [5.1, 1.8]])"
      ]
     },
     "execution_count": 44,
     "metadata": {},
     "output_type": "execute_result"
    }
   ],
   "source": [
    "X[:,-2:]"
   ]
  },
  {
   "cell_type": "code",
   "execution_count": 45,
   "id": "9383bbf2-3aa7-46df-9247-8f92137796dd",
   "metadata": {},
   "outputs": [
    {
     "name": "stdout",
     "output_type": "stream",
     "text": [
      "{'data': array([[  5., 162.,  60.],\n",
      "       [  2., 110.,  60.],\n",
      "       [ 12., 101., 101.],\n",
      "       [ 12., 105.,  37.],\n",
      "       [ 13., 155.,  58.],\n",
      "       [  4., 101.,  42.],\n",
      "       [  8., 101.,  38.],\n",
      "       [  6., 125.,  40.],\n",
      "       [ 15., 200.,  40.],\n",
      "       [ 17., 251., 250.],\n",
      "       [ 17., 120.,  38.],\n",
      "       [ 13., 210., 115.],\n",
      "       [ 14., 215., 105.],\n",
      "       [  1.,  50.,  50.],\n",
      "       [  6.,  70.,  31.],\n",
      "       [ 12., 210., 120.],\n",
      "       [  4.,  60.,  25.],\n",
      "       [ 11., 230.,  80.],\n",
      "       [ 15., 225.,  73.],\n",
      "       [  2., 110.,  43.]]), 'feature_names': ['Chins', 'Situps', 'Jumps'], 'target': array([[191.,  36.,  50.],\n",
      "       [189.,  37.,  52.],\n",
      "       [193.,  38.,  58.],\n",
      "       [162.,  35.,  62.],\n",
      "       [189.,  35.,  46.],\n",
      "       [182.,  36.,  56.],\n",
      "       [211.,  38.,  56.],\n",
      "       [167.,  34.,  60.],\n",
      "       [176.,  31.,  74.],\n",
      "       [154.,  33.,  56.],\n",
      "       [169.,  34.,  50.],\n",
      "       [166.,  33.,  52.],\n",
      "       [154.,  34.,  64.],\n",
      "       [247.,  46.,  50.],\n",
      "       [193.,  36.,  46.],\n",
      "       [202.,  37.,  62.],\n",
      "       [176.,  37.,  54.],\n",
      "       [157.,  32.,  52.],\n",
      "       [156.,  33.,  54.],\n",
      "       [138.,  33.,  68.]]), 'target_names': ['Weight', 'Waist', 'Pulse'], 'frame': None, 'DESCR': '.. _linnerrud_dataset:\\n\\nLinnerrud dataset\\n-----------------\\n\\n**Data Set Characteristics:**\\n\\n    :Number of Instances: 20\\n    :Number of Attributes: 3\\n    :Missing Attribute Values: None\\n\\nThe Linnerud dataset is a multi-output regression dataset. It consists of three\\nexercise (data) and three physiological (target) variables collected from\\ntwenty middle-aged men in a fitness club:\\n\\n- *physiological* - CSV containing 20 observations on 3 physiological variables:\\n   Weight, Waist and Pulse.\\n- *exercise* - CSV containing 20 observations on 3 exercise variables:\\n   Chins, Situps and Jumps.\\n\\n.. topic:: References\\n\\n  * Tenenhaus, M. (1998). La regression PLS: theorie et pratique. Paris:\\n    Editions Technic.\\n', 'data_filename': 'linnerud_exercise.csv', 'target_filename': 'linnerud_physiological.csv', 'data_module': 'sklearn.datasets.data'}\n"
     ]
    }
   ],
   "source": [
    "from sklearn.datasets import load_linnerud\n",
    "from sklearn.ensemble import RandomForestRegressor\n",
    "ll = load_linnerud()\n",
    "print(ll)\n",
    "\n"
   ]
  },
  {
   "cell_type": "code",
   "execution_count": 46,
   "id": "58f79c7c-b9be-4bee-b8fe-24f6786502c8",
   "metadata": {},
   "outputs": [
    {
     "data": {
      "text/plain": [
       "array([[  5., 162.,  60.],\n",
       "       [  2., 110.,  60.],\n",
       "       [ 12., 101., 101.],\n",
       "       [ 12., 105.,  37.],\n",
       "       [ 13., 155.,  58.],\n",
       "       [  4., 101.,  42.],\n",
       "       [  8., 101.,  38.],\n",
       "       [  6., 125.,  40.],\n",
       "       [ 15., 200.,  40.],\n",
       "       [ 17., 251., 250.],\n",
       "       [ 17., 120.,  38.],\n",
       "       [ 13., 210., 115.],\n",
       "       [ 14., 215., 105.],\n",
       "       [  1.,  50.,  50.],\n",
       "       [  6.,  70.,  31.],\n",
       "       [ 12., 210., 120.],\n",
       "       [  4.,  60.,  25.],\n",
       "       [ 11., 230.,  80.],\n",
       "       [ 15., 225.,  73.],\n",
       "       [  2., 110.,  43.]])"
      ]
     },
     "execution_count": 46,
     "metadata": {},
     "output_type": "execute_result"
    }
   ],
   "source": [
    "X = ll.data\n",
    "X"
   ]
  },
  {
   "cell_type": "code",
   "execution_count": 47,
   "id": "eab8ae0a-338b-408d-bf0e-33517b771b6b",
   "metadata": {},
   "outputs": [
    {
     "data": {
      "text/plain": [
       "array([[191.,  36.,  50.],\n",
       "       [189.,  37.,  52.],\n",
       "       [193.,  38.,  58.],\n",
       "       [162.,  35.,  62.],\n",
       "       [189.,  35.,  46.],\n",
       "       [182.,  36.,  56.],\n",
       "       [211.,  38.,  56.],\n",
       "       [167.,  34.,  60.],\n",
       "       [176.,  31.,  74.],\n",
       "       [154.,  33.,  56.],\n",
       "       [169.,  34.,  50.],\n",
       "       [166.,  33.,  52.],\n",
       "       [154.,  34.,  64.],\n",
       "       [247.,  46.,  50.],\n",
       "       [193.,  36.,  46.],\n",
       "       [202.,  37.,  62.],\n",
       "       [176.,  37.,  54.],\n",
       "       [157.,  32.,  52.],\n",
       "       [156.,  33.,  54.],\n",
       "       [138.,  33.,  68.]])"
      ]
     },
     "execution_count": 47,
     "metadata": {},
     "output_type": "execute_result"
    }
   ],
   "source": [
    "y = ll.target\n",
    "y"
   ]
  },
  {
   "cell_type": "code",
   "execution_count": 48,
   "id": "75da5dac-6e4c-44e7-a333-e46932d47e34",
   "metadata": {},
   "outputs": [
    {
     "name": "stdout",
     "output_type": "stream",
     "text": [
      "[[221.75545774  42.38850963  52.59585237]]\n"
     ]
    }
   ],
   "source": [
    "regr = RandomForestRegressor(max_depth=2, random_state=0)\n",
    "regr.fit(X, y)\n",
    "print(regr.predict([[0, 0, 0]]))"
   ]
  },
  {
   "cell_type": "code",
   "execution_count": 50,
   "id": "c28ed91d-de45-4354-9d68-0c72e7bccebd",
   "metadata": {},
   "outputs": [],
   "source": [
    "# from sklearn.datasets import make_regression\n",
    "# X, y = make_regression(n_features=4, n_informative=2,\n",
    "#                        random_state=0, shuffle=False)\n",
    "# regr = RandomForestRegressor(max_depth=2, random_state=0)\n",
    "# regr.fit(X, y)\n",
    "# print(regr.predict([[0, 0, 0,0]]))"
   ]
  },
  {
   "cell_type": "code",
   "execution_count": 51,
   "id": "7e4ed64b-8244-4811-90c3-8626ac5d56d7",
   "metadata": {},
   "outputs": [
    {
     "data": {
      "text/plain": [
       "array([0.2993382 , 0.58913791, 0.11152389])"
      ]
     },
     "execution_count": 51,
     "metadata": {},
     "output_type": "execute_result"
    }
   ],
   "source": [
    "regr.feature_importances_"
   ]
  }
 ],
 "metadata": {
  "kernelspec": {
   "display_name": "base",
   "language": "python",
   "name": "base"
  },
  "language_info": {
   "codemirror_mode": {
    "name": "ipython",
    "version": 3
   },
   "file_extension": ".py",
   "mimetype": "text/x-python",
   "name": "python",
   "nbconvert_exporter": "python",
   "pygments_lexer": "ipython3",
   "version": "3.7.11"
  }
 },
 "nbformat": 4,
 "nbformat_minor": 5
}
