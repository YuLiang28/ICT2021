{
 "cells": [
  {
   "cell_type": "code",
   "execution_count": 2,
   "id": "920294e0-efef-48e1-835c-29c6072ff5db",
   "metadata": {},
   "outputs": [],
   "source": [
    "# \n",
    "from sklearn.feature_selection import VarianceThreshold # import packge"
   ]
  },
  {
   "cell_type": "code",
   "execution_count": 5,
   "id": "958957ea-2183-4427-b27a-ecf0cb4b51c8",
   "metadata": {},
   "outputs": [],
   "source": [
    "X = [\n",
    "    [0,0,1],\n",
    "    [0,1,0],\n",
    "    [1,0,0],\n",
    "    [0,1,1],\n",
    "    [0,1,0],\n",
    "    [0,1,1]\n",
    "] \n",
    "# col =3,row = 6"
   ]
  },
  {
   "cell_type": "code",
   "execution_count": 6,
   "id": "1bebfa04-b3a5-4f7a-b9b5-02d22043fdd1",
   "metadata": {},
   "outputs": [],
   "source": [
    "sel = VarianceThreshold(threshold=(.8 * (1 - .8))) # remove all features that are either one or zero in more than 80% of the samples."
   ]
  },
  {
   "cell_type": "code",
   "execution_count": 9,
   "id": "defb2a92-3d74-4104-aea9-61fa4322c452",
   "metadata": {},
   "outputs": [
    {
     "data": {
      "text/plain": [
       "array([[0, 1],\n",
       "       [1, 0],\n",
       "       [0, 0],\n",
       "       [1, 1],\n",
       "       [1, 0],\n",
       "       [1, 1]])"
      ]
     },
     "execution_count": 9,
     "metadata": {},
     "output_type": "execute_result"
    }
   ],
   "source": [
    "sel.fit_transform(X)"
   ]
  },
  {
   "cell_type": "code",
   "execution_count": null,
   "id": "9d500add-4545-4d0d-9d31-65d79b6714d3",
   "metadata": {},
   "outputs": [],
   "source": []
  }
 ],
 "metadata": {
  "kernelspec": {
   "display_name": "base",
   "language": "python",
   "name": "base"
  },
  "language_info": {
   "codemirror_mode": {
    "name": "ipython",
    "version": 3
   },
   "file_extension": ".py",
   "mimetype": "text/x-python",
   "name": "python",
   "nbconvert_exporter": "python",
   "pygments_lexer": "ipython3",
   "version": "3.7.11"
  }
 },
 "nbformat": 4,
 "nbformat_minor": 5
}
