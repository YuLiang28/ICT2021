{
 "cells": [
  {
   "cell_type": "code",
   "execution_count": 76,
   "id": "7fc64775-fc07-493f-aedb-386e39d7ff77",
   "metadata": {},
   "outputs": [],
   "source": [
    "import numpy as np\n",
    "import matplotlib.pyplot as plt"
   ]
  },
  {
   "cell_type": "code",
   "execution_count": 38,
   "id": "705c98ce-6569-4019-881e-fb571baf8545",
   "metadata": {},
   "outputs": [],
   "source": [
    "X = [\n",
    "    [0,0,1],\n",
    "    [0,1,0],\n",
    "    [1,0,0],\n",
    "    [0,1,1],\n",
    "    [0,1,0],\n",
    "    [0,1,1]\n",
    "]\n",
    "# col =3,row = 6\n",
    "col1 = list(np.array(X)[:,0])"
   ]
  },
  {
   "cell_type": "code",
   "execution_count": 42,
   "id": "75d74e13-9298-4325-b7a4-7aaa4beb7d69",
   "metadata": {},
   "outputs": [],
   "source": [
    "Xnew = np.array(X)"
   ]
  },
  {
   "cell_type": "code",
   "execution_count": 47,
   "id": "936079c4-f8c5-48c3-bb9e-22800a81102b",
   "metadata": {},
   "outputs": [
    {
     "data": {
      "text/plain": [
       "0.13888888888888892"
      ]
     },
     "execution_count": 47,
     "metadata": {},
     "output_type": "execute_result"
    }
   ],
   "source": [
    "# variance\n",
    "np.var(Xnew[:,0])"
   ]
  },
  {
   "cell_type": "code",
   "execution_count": 50,
   "id": "d6545014-fc7b-44b2-9da7-27e93845637b",
   "metadata": {},
   "outputs": [
    {
     "name": "stdout",
     "output_type": "stream",
     "text": [
      "矩阵1=\n",
      " [[1 2 3]\n",
      " [6 5 4]]\n",
      "相关系数矩阵=\n",
      " [[ 1. -1.]\n",
      " [-1.  1.]]\n"
     ]
    }
   ],
   "source": [
    "# Pearson product-moment correlation\n",
    "\n",
    "\n",
    "Array1 = [[1, 2, 3], [6, 5, 4]]\n",
    "Mat1 = np.array(Array1)\n",
    "\n",
    "correlation = np.corrcoef(Mat1)\n",
    "print(\"矩阵1=\\n\", Mat1)\n",
    "\n",
    "print(\"相关系数矩阵=\\n\", correlation)"
   ]
  },
  {
   "cell_type": "code",
   "execution_count": 71,
   "id": "5024e58e-2c0f-494e-b567-145bef22e72b",
   "metadata": {},
   "outputs": [
    {
     "data": {
      "image/png": "[encoded data removed]",
      "text/plain": [
       "<Figure size 432x288 with 1 Axes>"
      ]
     },
     "metadata": {
      "needs_background": "light"
     },
     "output_type": "display_data"
    }
   ],
   "source": [
    "# histogram\n",
    "np.histogram([0.5, 1.5, 1.5], bins=[0, 1, 2, 3]) # bins 是区间刻度\n",
    "np.histogram(np.arange(4), bins=np.arange(5), density=True)\n",
    "\n",
    "\n",
    "# rng = np.random.RandomState(10)  # deterministic random data\n",
    "a = [0.5, 1.5, 1.5]\n",
    "_ = plt.hist(a, bins=[0,1,2])\n",
    "plt.title(\"Histogram\")\n",
    "plt.show()\n"
   ]
  },
  {
   "cell_type": "code",
   "execution_count": 75,
   "id": "317e6508-68e5-450a-aa6b-8495c9356b7f",
   "metadata": {},
   "outputs": [
    {
     "data": {
      "text/plain": [
       "array([  3.59967353,   2.56741227,  12.49783548,   2.03384097,\n",
       "         5.54566768,   9.07164231,  -0.69437056,  16.25039731,\n",
       "        17.46025451,  13.88206004,   1.07046492,   8.77209427,\n",
       "         8.09884496,  20.12853364,   6.42277768,  12.12600421,\n",
       "         0.72142184,  11.79686496, -26.59741929,  -2.6228349 ,\n",
       "         0.18474206, -11.02913645,   1.67357659,  14.81350541,\n",
       "       -10.46721487,  16.00277987,  -6.85090059,  -0.54470268,\n",
       "        10.0768    ,  -1.75236433,   5.81209574,   3.64236681,\n",
       "        19.254135  ,  -4.98457453,  -8.94192584,  -6.10352035,\n",
       "        -1.20880605,  -5.21801769,  -5.6986452 ,  10.36265717,\n",
       "        10.10312017,   7.72544693,   6.48999188,  -2.6746888 ,\n",
       "        12.13642086,  12.49742358,   1.18563728,  23.42822592,\n",
       "        -1.5456106 ,  14.3037008 ,   6.99802208,   5.11867583,\n",
       "        22.75410441,  12.02820308, -10.44829018,   1.22426064,\n",
       "        19.03582427,   9.30476927,   2.27195585,  10.53875766,\n",
       "       -16.00867973, -11.48419317,  16.16698082,   4.3747423 ,\n",
       "         1.02882208,  -2.03404838,   3.59101371,   0.79289274,\n",
       "         2.53833603,   4.06442954,   9.8790594 ,  12.79360444,\n",
       "        -9.37506737,   7.07940278,   2.18401055,   7.90379285,\n",
       "         2.9033514 ,   2.56174316,   0.26942446,  21.77355839,\n",
       "         1.90740362,  -1.00314209,   5.32879618,  10.5110976 ,\n",
       "        -2.62473322, -10.13552018,   6.70571004,  -0.18290999,\n",
       "         4.9833109 ,   8.95331994,  -1.48311751, -28.89538911,\n",
       "        12.17507589,  15.45024751,  14.15057491,   5.18765167,\n",
       "         6.17408618,  17.18012647,  12.26434415,   0.36208722,\n",
       "         1.27941703,  -2.92243752,  -9.84370384,  15.12643818,\n",
       "         4.3724729 ,  -0.58072364,  18.10865399,  -6.34399926,\n",
       "         3.28399798,   1.57942308,   5.34979129,   3.8407375 ,\n",
       "        13.26084832,  28.20638946,  -0.12766368,   1.80468774,\n",
       "        -0.12502617,   8.92669887,  11.56461713,   0.61569813,\n",
       "        10.88636391,  -1.50482368,   5.67401599,   1.96364061,\n",
       "         6.31080425,   4.67114482,   4.36860745,   1.85946939,\n",
       "         6.67749983,  19.2924281 ,  -8.2667787 , -15.0460563 ,\n",
       "        13.05040426,  19.98449023,   4.69979972,  27.40580533,\n",
       "        -3.72020443,  -2.50074891,   3.03530161,  -4.62097224,\n",
       "        16.64848871,  12.22523272,   9.59430107, -10.23749106,\n",
       "         4.49305303,  12.89165181,  -7.51447723,  -2.82160618,\n",
       "       -17.65431183,   8.22823767,   7.93958954,  28.25592749,\n",
       "        -6.00803534,  25.04746355,   7.08846067,   0.47873718,\n",
       "         2.08175244,   8.54612716,   6.58958741,  -2.41486161,\n",
       "        14.61991902,  -2.72209987, -15.75099664,  -3.52417192,\n",
       "        26.10275315,   3.81145204,   4.54722534,  11.49916271,\n",
       "         7.61949844,   0.18252061,   8.24649042,   1.06349103,\n",
       "        10.86637194,  -6.54949184,  12.53293964,  11.26603601,\n",
       "         9.13465062,  -5.36780444,   5.16529607,  18.05988711,\n",
       "         1.80875422,  12.01132118,   4.34521571,   5.09469016,\n",
       "        12.15272749,  20.6436147 ,   6.5259958 ,   5.8850115 ,\n",
       "        -2.70260076, -10.31033015,   3.97073914,   8.60187181,\n",
       "        -6.64910628,  -4.45883443,  -7.83565393,   9.05300982,\n",
       "        14.82695793, -16.34567963,   8.94262687,   7.67550789,\n",
       "       -10.93244134,   5.39787626, -11.11499215,   5.72177364,\n",
       "        20.0793834 ,   7.21456655,  11.1192055 , -10.01552144,\n",
       "        11.60895305,  14.53323971,  -7.25751761,  13.24370991,\n",
       "         6.73553431,  -3.78959102,  -8.42739184,  -4.35958427,\n",
       "        -8.99724964,   6.27404078,   4.28185031,  15.46445239,\n",
       "       -10.79092202,   2.29445702,  13.03095594,   0.74907205,\n",
       "        -1.17276989,   5.89333798,  21.97209496,  -1.38478795,\n",
       "         4.09461713,   8.18702131,  -1.02816614,  -3.76061738,\n",
       "         3.3916637 ,   1.04270383,  27.47720075,  25.04624975,\n",
       "        15.25629034,  12.12342178,  -2.70133674,  -0.55019317,\n",
       "        16.55729933,   7.57258404,  -3.96688465,  14.47662158,\n",
       "         1.82724757,   6.10184748,   1.39240262, -14.03232231,\n",
       "        -4.11293026,  -3.14613839,   5.95529943,   4.67227029,\n",
       "        11.24568761,  13.4075349 , -12.59665675,   9.69121943,\n",
       "        21.5144074 ,   7.0619171 , -16.65322997,  -4.07865299,\n",
       "        -2.7305132 ,  20.73002634,   1.58083667, -12.0460374 ,\n",
       "        -0.81417436,   6.18518632,   1.99379137,  12.54063905,\n",
       "         0.74231226,  -4.85395634,   5.74591558,   7.34420617,\n",
       "         1.11591501,  -8.47965308,  -2.89207889,   5.92417792,\n",
       "         2.25782567,  -3.81932786,  -1.19698221,  10.17993298,\n",
       "        -7.6605802 ,   5.58998198,   4.5650337 ,   4.97581203,\n",
       "        18.33920072,  14.82329467,  -3.36642613,  25.6081429 ,\n",
       "        10.72148345,  -7.87349548,  -2.29200013,   2.28736454,\n",
       "         8.91166247,  39.93332548,   6.40484565,  -6.8084481 ,\n",
       "        13.14773607,  28.97094152,  14.5671392 ,  13.87575584,\n",
       "        -2.6010455 ,  20.81703823, -16.35148976,   8.18884819,\n",
       "         5.00844015,   9.35916987,  13.4471997 , -10.90864174,\n",
       "         2.93847807,  -2.93209495,  13.57650024,   0.41036116,\n",
       "        12.64166835,   9.47961578,  12.13978727,  -4.45450003,\n",
       "        16.88911994,  -7.18453842,   9.35951312, -16.22819132,\n",
       "        -4.73400638,  -6.5615563 ,  12.95624648,   2.9645904 ,\n",
       "         3.03820162, -23.19968328,  -6.48522901, -11.34279737,\n",
       "         1.84515657,  21.88822406, -12.79832784,   0.10098188,\n",
       "        15.53717631,  -4.10882324,   4.97027744,   2.90511968,\n",
       "         7.12712386,  24.37898188,  19.86353285,  10.25545718,\n",
       "        17.72501576,   3.78390206,   5.88563449,  -4.73031299,\n",
       "        11.85295849,  11.08961453,   7.6270619 ,   5.00841777,\n",
       "        -7.59755376,   7.31644279,   1.50279132,   7.49341466,\n",
       "         6.22722893,   0.08657417,   4.6620155 ,   6.00446619,\n",
       "        34.68346546,   1.41529134,  14.65871635,  13.69884575,\n",
       "         9.51301221,   4.30245449,  14.0148582 ,  -4.35647642,\n",
       "        -1.27633577,   5.27300039, -14.8725581 ,  -0.6512551 ,\n",
       "       -14.2019317 ,   6.09620082,  -2.76513274,   9.2884659 ,\n",
       "        -0.18721958,   3.96575425,  -9.62123526,   8.2861345 ,\n",
       "        22.80138906,  -2.94935518,  28.03499809,  -2.57126617,\n",
       "         5.9843142 ,  -6.48568697,  26.99363215,  -0.62966116,\n",
       "        -6.74888163,   9.53351212,   2.0459053 ,  12.4267912 ,\n",
       "         8.79117566,  19.21096752,   5.7907949 ,  14.84001534,\n",
       "         8.14957074,  10.95481895,  17.21729929,  10.22833108,\n",
       "         1.96811168,   6.59517531,  -6.84296604, -15.04206864,\n",
       "        -7.17914675,  25.10808393,  -3.21779985,  -4.25485408,\n",
       "        -7.57695596,  -7.46940635,   9.55190406, -13.53436611,\n",
       "         0.51995698,  12.15370776,   6.30059507,  -6.01967397,\n",
       "         7.68856133,  -0.17572918,  15.48315224, -10.54119129,\n",
       "        -7.27836951,  -9.65699512,   6.66393953,   6.4462782 ,\n",
       "        12.79206218,  19.8185236 ,   6.55345969,  13.41115319,\n",
       "        -0.67480294,  13.50287799,  12.04036158,  10.58453116,\n",
       "        13.74097339,  -3.66643972,  15.88128663,   0.55816225,\n",
       "       -11.89599665,  11.38947765,  14.09428775,  -0.71505887,\n",
       "        14.29264448,  -7.08084418,  13.71597263,  15.33431456,\n",
       "        20.2936831 ,  27.53830752,   9.51605933,   3.73563857,\n",
       "        -5.08759305,   8.09346487,  18.55899042,   2.01425544,\n",
       "       -13.4936024 ,  -2.42968283,  13.86987859,   6.97832953,\n",
       "        19.32169497,   3.53871899,  -6.21521789,  -3.11124473,\n",
       "        -2.03257419,  -0.64032692,   1.61510257,  -4.77397672,\n",
       "        15.01543465,  13.54551281,  17.71267015,   2.86749763,\n",
       "        12.42515324,  12.41015952,   1.77501679,   5.16888277,\n",
       "         1.83335695,  11.37734538,  11.74720354,  -4.23543284,\n",
       "         5.24719499,   3.86610338,  -1.86713634,   8.38208831,\n",
       "        10.70781892,  13.58361541,   2.9419679 ,   0.61984547,\n",
       "       -14.53688242,   1.04547144,   1.73702408,  18.17703812,\n",
       "         6.0464517 ,  17.70829645,  -3.25000412,  20.75079034,\n",
       "         3.11444979,   5.23455149,  22.23301799,  -9.43383191,\n",
       "        21.59100882,   2.71476956,  -2.16015111, -12.19450353,\n",
       "         9.83351862,  10.58444854,   0.92733849,  -4.73247954])"
      ]
     },
     "execution_count": 75,
     "metadata": {},
     "output_type": "execute_result"
    }
   ],
   "source": []
  }
 ],
 "metadata": {
  "kernelspec": {
   "display_name": "base",
   "language": "python",
   "name": "base"
  },
  "language_info": {
   "codemirror_mode": {
    "name": "ipython",
    "version": 3
   },
   "file_extension": ".py",
   "mimetype": "text/x-python",
   "name": "python",
   "nbconvert_exporter": "python",
   "pygments_lexer": "ipython3",
   "version": "3.7.11"
  }
 },
 "nbformat": 4,
 "nbformat_minor": 5
}
