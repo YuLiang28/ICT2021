{
 "cells": [
  {
   "cell_type": "markdown",
   "id": "e1ceb835-a291-463e-8b92-594dc4602531",
   "metadata": {},
   "source": [
    "## Dimensionality reduction 降维\n",
    "降维是降低随机变量（特征）的个数，得到一组“不相关”主编量的过程  \n",
    "### 主要方法\n",
    "- 特征选择\n",
    "- 主成分分析\n",
    "### 特征选择\n",
    "在原有特征中找出主要特征\n",
    "#### 方法\n",
    "Filter 过滤法\n",
    "- 方差选择法：低方差特征过滤\n",
    "             特征方差小：某个特征的样本值大多相近\n",
    "             特征方差大：某个特征的样本值差别较大\n",
    "- 相关系数：特征与特征之间的相关程度\n",
    "Embedded 嵌入法\n",
    "- 决策树\n",
    "- 正则化\n",
    "- 深度学习"
   ]
  },
  {
   "cell_type": "code",
   "execution_count": 29,
   "id": "2388eb2d-894e-4fd3-b2e6-1f51bc79639e",
   "metadata": {},
   "outputs": [
    {
     "name": "stdout",
     "output_type": "stream",
     "text": [
      "(2318, 12)\n"
     ]
    },
    {
     "data": {
      "text/plain": [
       "(2318, 8)"
      ]
     },
     "execution_count": 29,
     "metadata": {},
     "output_type": "execute_result"
    }
   ],
   "source": [
    "# VarianceThreshold 方差阈值\n",
    "from sklearn.feature_selection import VarianceThreshold\n",
    "import pandas as pd\n",
    "\n",
    "data = pd.read_csv(r\"..\\datasets\\factor_returns.csv\")\n",
    "data_iloc = data.iloc[:,1:-2] \n",
    "print(data.shape)\n",
    "tf = VarianceThreshold(threshold=0.5) # 默认方差的 Threshold（阈值）为 0\n",
    "data_new = tf.fit_transform(data_iloc)\n",
    "data_new.shape"
   ]
  },
  {
   "cell_type": "markdown",
   "id": "b4af1f17-253c-4e7e-bec9-1c9e801c9609",
   "metadata": {},
   "source": [
    "#### 相关系数\n",
    "#### 皮尔逊相关系数 pearson correlation coefficient\n",
    "相关系数的值为-1<=r<=+1  \n",
    "\n",
    "当r>0时，表示两变量正相关，r<0时两变量负相关  \n",
    "当|r|=1时，两变量完全相关，r=0时，两变量无相关关系  \n",
    "当0<|r|<1时，两变量存在一定程度的相关，且|r|越接近1，两变量间线性关系越密切,|r|越接近0，两变量的线性相关越弱  \n",
    "\n",
    "一般可按三级划分：  \n",
    "- |r|<0.4 低相关  \n",
    "- 0.4<=|r|<=0.7显著相关\n",
    "- 0.7<=|r|<=1 高度线性相关  \n",
    "  \n",
    "特征与特征之间相关性很高:\n",
    "- 选取其中一个\n",
    "- 加权求和\n",
    "- 主成分分析"
   ]
  },
  {
   "cell_type": "code",
   "execution_count": 31,
   "id": "c1de630f-7ceb-465c-870d-f685b6c6ace9",
   "metadata": {},
   "outputs": [
    {
     "data": {
      "text/plain": [
       "(-0.004389322779936271, 0.8327205496564927)"
      ]
     },
     "execution_count": 31,
     "metadata": {},
     "output_type": "execute_result"
    }
   ],
   "source": [
    "from scipy.stats import pearsonr\n",
    "\n",
    "# 计算两特征间的相关性\n",
    "r1 = pearsonr(data[\"pe_ratio\"],data[\"pb_ratio\"])\n",
    "r"
   ]
  },
  {
   "cell_type": "code",
   "execution_count": 33,
   "id": "8c7e557a-31d0-4e11-ae87-b29346e5ac78",
   "metadata": {},
   "outputs": [
    {
     "data": {
      "text/plain": [
       "(0.9958450413136115, 0.0)"
      ]
     },
     "execution_count": 33,
     "metadata": {},
     "output_type": "execute_result"
    }
   ],
   "source": [
    "r2 = pearsonr(data[\"revenue\"],data[\"total_expense\"])\n",
    "r2"
   ]
  },
  {
   "cell_type": "markdown",
   "id": "5095a377-3759-4b25-a6d6-8a97b4f43f0e",
   "metadata": {},
   "source": [
    "#### PCA 主成分分析\n",
    "定义：高维数据转化为低维数据的过程，在此过程中可能会舍弃原有数据、创造新的变量\n",
    "\n",
    "作用：数据维度压缩，尽可能降低元数据的维度（复杂度），损失少量信息\n",
    "\n",
    "应用：回归分析或聚类分析中\n",
    "\n",
    "类似于线性回归"
   ]
  },
  {
   "cell_type": "code",
   "execution_count": 55,
   "id": "961ad910-9580-4527-b7d8-81695713fb9f",
   "metadata": {},
   "outputs": [
    {
     "name": "stdout",
     "output_type": "stream",
     "text": [
      "原shape (2318, 9)\n",
      "降维后shape (2318, 8)\n"
     ]
    }
   ],
   "source": [
    "from sklearn.decomposition import PCA\n",
    "\n",
    "# PCA 降维\n",
    "# pca 构造函数接受 n_components 传参\n",
    "# n_components：\n",
    "# 小数：表示保留百分之多少的信息\n",
    "# 整数：减少到多少的特征\n",
    "# mle: 根据特征的方差分布情况自己去选择一定数量的主成分特征来降维\n",
    "\n",
    "tf = PCA(n_components=\"mle\")\n",
    "data_new = tf.fit_transform(data_iloc)\n",
    "print(\"原shape\",data_iloc.shape)\n",
    "print(\"降维后shape\",data_new.shape)"
   ]
  },
  {
   "cell_type": "code",
   "execution_count": null,
   "id": "e827ca72-b8ab-4606-92fd-507e62421cc7",
   "metadata": {},
   "outputs": [],
   "source": []
  }
 ],
 "metadata": {
  "kernelspec": {
   "display_name": "base",
   "language": "python",
   "name": "base"
  },
  "language_info": {
   "codemirror_mode": {
    "name": "ipython",
    "version": 3
   },
   "file_extension": ".py",
   "mimetype": "text/x-python",
   "name": "python",
   "nbconvert_exporter": "python",
   "pygments_lexer": "ipython3",
   "version": "3.7.11"
  }
 },
 "nbformat": 4,
 "nbformat_minor": 5
}
