{
 "cells": [
  {
   "cell_type": "code",
   "execution_count": null,
   "id": "68c34168-2d8f-4803-b584-4a411f5ea1d8",
   "metadata": {},
   "outputs": [],
   "source": [
    "from sklearn.datasets import load_iris\n",
    "from sklearn.model_selection import train_test_split"
   ]
  },
  {
   "cell_type": "code",
   "execution_count": null,
   "id": "6b88c171-26ef-45b3-ac4d-b3bed1b931ff",
   "metadata": {},
   "outputs": [],
   "source": [
    "# load iris dataset\n",
    "iris = load_iris()\n",
    "# data{ndarray, dataframe} of shape (150, 4)\n",
    "# The data matrix. If as_frame=True, data will be a pandas DataFrame.\n",
    "# target: {ndarray, Series} of shape (150,)\n",
    "# The classification target. If as_frame=True, target will be a pandas Series.\n",
    "# feature_names: list\n",
    "# The names of the dataset columns.\n",
    "# target_names: list\n",
    "# The names of target classes.\n",
    "# frame: DataFrame of shape (150, 5)\n",
    "# Only present when as_frame=True. DataFrame with data and target.\n",
    "# New in version 0.23.\n",
    "# DESCR: str\n",
    "# The full description of the dataset.\n",
    "# filename: str\n",
    "# The path to the location of the data.\n",
    "# New in version 0.20."
   ]
  },
  {
   "cell_type": "code",
   "execution_count": null,
   "id": "bbba373f-86fa-46a5-80d9-72b1a31e010d",
   "metadata": {},
   "outputs": [],
   "source": [
    "# print iris dataset\n",
    "print(iris)"
   ]
  },
  {
   "cell_type": "code",
   "execution_count": null,
   "id": "244c9568-2e7c-438e-8001-8e04588801d3",
   "metadata": {},
   "outputs": [],
   "source": [
    "# print target value\n",
    "print(iris.target)"
   ]
  },
  {
   "cell_type": "code",
   "execution_count": null,
   "id": "8e3feedd-25a7-4422-8d13-468ece4e5eaa",
   "metadata": {},
   "outputs": [],
   "source": [
    "# show descr\n",
    "print(iris.DESCR)"
   ]
  },
  {
   "cell_type": "code",
   "execution_count": null,
   "id": "f326a1c7-521e-48da-bbfe-5a6211090469",
   "metadata": {},
   "outputs": [],
   "source": [
    "# show feature names\n",
    "print(iris.feature_names)"
   ]
  },
  {
   "cell_type": "code",
   "execution_count": null,
   "id": "575a886b-8d45-482b-bff4-dcbfd73ea786",
   "metadata": {},
   "outputs": [],
   "source": [
    "# dataset train test split\n",
    "X_train,X_test,y_train,y_test = train_test_split(iris.data,iris.target,random_state=1)\n",
    "print(X_train.shape)\n",
    "print(X_test.shape)\n",
    "print(y_train.shape)\n",
    "print(y_test.shape)"
   ]
  }
 ],
 "metadata": {
  "kernelspec": {
   "display_name": "base",
   "language": "python",
   "name": "base"
  },
  "language_info": {
   "codemirror_mode": {
    "name": "ipython",
    "version": 3
   },
   "file_extension": ".py",
   "mimetype": "text/x-python",
   "name": "python",
   "nbconvert_exporter": "python",
   "pygments_lexer": "ipython3",
   "version": "3.7.11"
  }
 },
 "nbformat": 4,
 "nbformat_minor": 5
}
