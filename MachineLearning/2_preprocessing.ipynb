{
 "cells": [
  {
   "cell_type": "markdown",
   "id": "6b08cd73-5a3c-42eb-b4df-c433a237b997",
   "metadata": {},
   "source": [
    "link: https://www.cnblogs.com/shine-lee/p/11779514.html\n",
    "## 特征预处理\n",
    "通过一些***转换函数***将特征数据转换成***更加适合算法模型***的特征数据的过程"
   ]
  },
  {
   "cell_type": "markdown",
   "id": "86a59b40-bbd4-4dfd-8334-34bceabf7751",
   "metadata": {},
   "source": [
    "### 数值类型的无量纲化\n",
    "- 归一化\n",
    "- 标准化"
   ]
  },
  {
   "cell_type": "markdown",
   "id": "60435f27-b417-40a1-9086-3fde9bfcb831",
   "metadata": {},
   "source": [
    "### 特征与处理 API\n",
    "~~~python\n",
    "sklearn.preprocessing\n",
    "~~~"
   ]
  },
  {
   "cell_type": "markdown",
   "id": "679ee92b-0a74-4faf-ba38-5c4c6786d835",
   "metadata": {},
   "source": [
    "### 为什么要归一化/标准化？\n",
    "特征的单位或大小相差较大，或者某特征的方差相比其他的特征要大出几个数量级，容易影响目标结果，使得一些算法无法学习到其他特征。   \n",
    "在进行距离有关的计算时，单位的不同会导致计算结果的不同，尺度大的特征会起决定性作用，而尺度小的特征其作用可能会被忽略，为了消除特征间单位和尺度差异的影响，以对每维特征同等看待，需要对特征进行归一化。"
   ]
  },
  {
   "cell_type": "markdown",
   "id": "efd23bfc-6c50-48c8-a5bf-0f3d8c56a902",
   "metadata": {},
   "source": [
    "### 归一化\n",
    "#### 定义\n",
    "通过对原始数据进行变换把数据映射到(默认[0,1))某个范围之间  \n",
    "X1 = x-min/max-min  \n",
    "X2 = X1 * (mx-mi)+mi  \n",
    "max是列的最大值，min是列的最小值  \n",
    "mx,mi是区间的两端点的值\n"
   ]
  },
  {
   "cell_type": "code",
   "execution_count": 19,
   "id": "e77be07f-333f-47a6-bf5c-61a26fea2597",
   "metadata": {},
   "outputs": [
    {
     "name": "stdout",
     "output_type": "stream",
     "text": [
      "data:\n",
      "[[19 72  9]\n",
      " [47  9 45]\n",
      " [49 86 71]]\n"
     ]
    },
    {
     "data": {
      "text/plain": [
       "array([[0.        , 0.81818182, 0.        ],\n",
       "       [0.93333333, 0.        , 0.58064516],\n",
       "       [1.        , 1.        , 1.        ]])"
      ]
     },
     "execution_count": 19,
     "metadata": {},
     "output_type": "execute_result"
    }
   ],
   "source": [
    "# 归一化\n",
    "from sklearn.preprocessing import MinMaxScaler\n",
    "import numpy as np\n",
    "data = np.random.randint(0,100,(3,3))\n",
    "print(f\"data:\\n{data}\")\n",
    "# feature_range 数据映射的范围\n",
    "tf = MinMaxScaler(feature_range=[0,1]) \n",
    "data_new = tf.fit_transform(data)\n",
    "data_new"
   ]
  },
  {
   "cell_type": "markdown",
   "id": "2ef3c731-af79-4687-969c-c13fc686f2d7",
   "metadata": {},
   "source": [
    "#### 归一化有什么缺点？\n",
    "如果最大值或最小值是异常值会导致归一化不准确，标准化可以避免这个问题。\n",
    "### 标准化\n",
    "通过对原始数据进行变换把数据变换到均值为0，标准差为1的范围内  \n",
    "X1 = x-mean/σ  \n",
    "作用于每一列，mean是平均值，σ是标准差  \n",
    "标准差是衡量离散程度（集中程度）的值  \n",
    "对于归一化来说：出现异常值，影响到最大/小值，那么结果会受到影响  \n",
    "对于标准化来说：出现异常值，少量的异常值，对于平均值的影响不大，结果受影响的程度小。"
   ]
  },
  {
   "cell_type": "code",
   "execution_count": 18,
   "id": "55df2659-54c0-4464-a07a-9dbb2bc3f9d4",
   "metadata": {},
   "outputs": [
    {
     "data": {
      "text/plain": [
       "array([[ 0.96761981,  1.00249915,  0.82323453],\n",
       "       [-1.37699742,  0.36260608, -1.40746549],\n",
       "       [ 0.40937761, -1.36510523,  0.58423096]])"
      ]
     },
     "execution_count": 18,
     "metadata": {},
     "output_type": "execute_result"
    }
   ],
   "source": [
    "from sklearn.preprocessing import StandardScaler\n",
    "tf = StandardScaler()\n",
    "data_new = tf.fit_transform(data)\n",
    "data_new"
   ]
  }
 ],
 "metadata": {
  "kernelspec": {
   "display_name": "base",
   "language": "python",
   "name": "base"
  },
  "language_info": {
   "codemirror_mode": {
    "name": "ipython",
    "version": 3
   },
   "file_extension": ".py",
   "mimetype": "text/x-python",
   "name": "python",
   "nbconvert_exporter": "python",
   "pygments_lexer": "ipython3",
   "version": "3.7.11"
  }
 },
 "nbformat": 4,
 "nbformat_minor": 5
}
