{
 "cells": [
  {
   "cell_type": "markdown",
   "metadata": {},
   "source": [
    "### 岭回归 ridge regression\n",
    "岭回归即带L2正则化的线性回归，可以解决过拟合的问题\n",
    "\n",
    "#### API\n",
    "~~~python\n",
    "sklearn.linear_model.Ridge\n",
    "~~~\n",
    "- 具有L2正则化的线性回归\n",
    "- alpha：正则化强度，惩罚性系数，即$\\lambda$\n",
    "  - 建议取值：0-1，1-10\n",
    "- solver：求解器\n",
    "  - sag：如果数据集、特征都较大，会选择随机梯度下降优化\n",
    "- normalize：数据是否进行标准化\n",
    "- Ridge.coef_：回归权重\n",
    "- Ridge.intercept_：回归偏置\n",
    "> Ridge方法相当于SGDRegressor(penalty='l2',loss='squared_error')  \n",
    "> 只不过SGDRegressor实现了随机梯度下降学习，但是Ridge实现了SAG。\n",
    "***正则化程度，对结果的影响***\n",
    "\n",
    "![不同的alpha对权重的影响](src/sphx_glr_plot_ridge_path_001.png)\n",
    "\n",
    "- 正则化力度越大，权重系数越小\n",
    "- 正则化力度越小，权重系数越大"
   ]
  },
  {
   "cell_type": "code",
   "execution_count": 21,
   "metadata": {},
   "outputs": [
    {
     "name": "stderr",
     "output_type": "stream",
     "text": [
      "D:\\source\\tools\\miniconda\\lib\\site-packages\\sklearn\\utils\\deprecation.py:87: FutureWarning: Function load_boston is deprecated; `load_boston` is deprecated in 1.0 and will be removed in 1.2.\n",
      "\n",
      "    The Boston housing prices dataset has an ethical problem. You can refer to\n",
      "    the documentation of this function for further details.\n",
      "\n",
      "    The scikit-learn maintainers therefore strongly discourage the use of this\n",
      "    dataset unless the purpose of the code is to study and educate about\n",
      "    ethical issues in data science and machine learning.\n",
      "\n",
      "    In this special case, you can fetch the dataset from the original\n",
      "    source::\n",
      "\n",
      "        import pandas as pd\n",
      "        import numpy as np\n",
      "\n",
      "\n",
      "        data_url = \"http://lib.stat.cmu.edu/datasets/boston\"\n",
      "        raw_df = pd.read_csv(data_url, sep=\"\\s+\", skiprows=22, header=None)\n",
      "        data = np.hstack([raw_df.values[::2, :], raw_df.values[1::2, :2]])\n",
      "        target = raw_df.values[1::2, 2]\n",
      "\n",
      "    Alternative datasets include the California housing dataset (i.e.\n",
      "    :func:`~sklearn.datasets.fetch_california_housing`) and the Ames housing\n",
      "    dataset. You can load the datasets as follows::\n",
      "\n",
      "        from sklearn.datasets import fetch_california_housing\n",
      "        housing = fetch_california_housing()\n",
      "\n",
      "    for the California housing dataset and::\n",
      "\n",
      "        from sklearn.datasets import fetch_openml\n",
      "        housing = fetch_openml(name=\"house_prices\", as_frame=True)\n",
      "\n",
      "    for the Ames housing dataset.\n",
      "    \n",
      "  warnings.warn(msg, category=FutureWarning)\n"
     ]
    }
   ],
   "source": [
    "# 获取数据集\n",
    "import pandas as pd\n",
    "import numpy as np\n",
    "from sklearn.datasets import load_boston\n",
    "boston = load_boston()\n",
    "boston.data.shape\n",
    "# 划分数据集\n",
    "from sklearn.model_selection import train_test_split\n",
    "x_train,x_test,y_train,y_test = train_test_split(boston.data,boston.target,random_state=22)\n",
    "# 标准化\n",
    "from sklearn.preprocessing import StandardScaler\n",
    "std = StandardScaler()\n",
    "x_train = std.fit_transform(x_train)\n",
    "x_test = std.transform(x_test)\n"
   ]
  },
  {
   "cell_type": "code",
   "execution_count": 23,
   "metadata": {},
   "outputs": [
    {
     "name": "stdout",
     "output_type": "stream",
     "text": [
      "coef_ [-0.63591916  1.12109181 -0.09319611  0.74628129 -1.91888749  2.71927719\n",
      " -0.08590464 -3.25882705  2.41315949 -1.76930347 -1.74279405  0.87205004\n",
      " -3.89758657]\n",
      "intercept_ 22.62137203166228\n",
      "err 20.65644821435496\n"
     ]
    }
   ],
   "source": [
    "from sklearn.linear_model import Ridge\n",
    "from sklearn.metrics import mean_squared_error\n",
    "\n",
    "\n",
    "clf = Ridge()\n",
    "clf.fit(x_train, y_train)\n",
    "y_pred = clf.predict(x_test)\n",
    "ridge_err = mean_squared_error(y_test,y_pred)\n",
    "print(\"coef_\",clf.coef_)\n",
    "print(\"intercept_\",clf.intercept_)\n",
    "print(\"err\",ridge_err)"
   ]
  },
  {
   "cell_type": "code",
   "execution_count": 30,
   "metadata": {},
   "outputs": [
    {
     "name": "stdout",
     "output_type": "stream",
     "text": [
      "best_params_ {'alpha': 0.8, 'max_iter': 0}\n",
      "best_score_ 0.6882262093590968\n",
      "ridgeGS coef_: [-0.63829726  1.12608043 -0.08671537  0.74549151 -1.92600823  2.71728832\n",
      " -0.08424494 -3.26674542  2.43047046 -1.78614331 -1.74430576  0.87231885\n",
      " -3.90072162]\n",
      "ridgeGS intercept_: 22.62137203166228\n",
      "ridgeGS_err 20.65644821435496\n"
     ]
    }
   ],
   "source": [
    "# 网格搜索对梯度下降调参\n",
    "from sklearn.model_selection import GridSearchCV\n",
    "estimator = Ridge()\n",
    "params = {\n",
    "    \"alpha\":[0.8,0.5,0.2,0.1],\n",
    "    \"max_iter\":[0,10,20,30,40,50,100,200,500,800,1000,5000,10000,20000,50000]\n",
    "}\n",
    "grid = GridSearchCV(estimator,params,cv=3,n_jobs=-1)\n",
    "grid.fit(x_train, y_train)\n",
    "print(\"best_params_\",grid.best_params_)\n",
    "print(\"best_score_\",grid.best_score_)\n",
    "\n",
    "\n",
    "ridgeGS = Ridge(alpha=grid.best_params_[\"alpha\"],max_iter=grid.best_params_[\"max_iter\"])\n",
    "ridgeGS.fit(x_train, y_train)\n",
    "\n",
    "\n",
    "print(\"ridgeGS coef_:\",ridgeGS.coef_)\n",
    "print(\"ridgeGS intercept_:\",ridgeGS.intercept_)\n",
    "\n",
    "\n",
    "ridgeGS_pred = ridgeGS.predict(x_test)\n",
    "ridgeGS_err = mean_squared_error(y_test,y_pred)\n",
    "print(\"ridgeGS_err\",ridgeGS_err)"
   ]
  }
 ],
 "metadata": {
  "interpreter": {
   "hash": "455d156c2443f23ffeb7a3cb87ade32cade494afff05783b4faa4f6a104c976b"
  },
  "kernelspec": {
   "display_name": "Python 3.7.11 ('base')",
   "language": "python",
   "name": "python3"
  },
  "language_info": {
   "codemirror_mode": {
    "name": "ipython",
    "version": 3
   },
   "file_extension": ".py",
   "mimetype": "text/x-python",
   "name": "python",
   "nbconvert_exporter": "python",
   "pygments_lexer": "ipython3",
   "version": "3.7.11"
  },
  "orig_nbformat": 4
 },
 "nbformat": 4,
 "nbformat_minor": 2
}
