{
 "cells": [
  {
   "cell_type": "markdown",
   "id": "2ca6bf2e-3510-4035-9d48-1373f7869fff",
   "metadata": {},
   "source": [
    "### KNN算法\n",
    "### k-nearest neighbors\n",
    "\n",
    "核心思想：  \n",
    "物以类聚，人以群分  \n",
    "通过\"邻居\"推断数据的类别\n",
    "如果一个样本在特征空间中的K个最相似(即特征空间中最邻近)的样本中的大多数属于某一个类别，则该样本也属于这个类别。  \n",
    "\n",
    "如何确定邻居，计算距离：  \n",
    "- 欧氏距离\n",
    "    两样本直接距离可以通过欧式距离计算，比如,a(a1,a2,a3),b(b1,b2,b3)\n",
    "    $$\\sqrt{(a1-b1)^2+(a2-b2)^2+(a3-b3)^2}$$\n",
    "- 曼哈顿距离 绝对值距离\n",
    "- 闵可夫斯基距离 \n",
    "\n",
    "K 值：  \n",
    "k 值是指离样本最近的 k 个值  \n",
    "K 值过大，容易分类模糊  \n",
    "K 值过小，容易受到异常点影响\n",
    "\n",
    "k 值得选择：\n",
    "- 经验\n",
    "- 均方根误差\n",
    "\n",
    "注意点：\n",
    "因为 KNN 算法需要计算距离，使用 KNN 前需要对数据进行无量纲化处理。\n",
    "\n",
    "#### API\n",
    "sklearn.neighbors.KNeighborsClassifier 主要参数\n",
    "- n_neighbors 邻居数，即 K 值\n",
    "- algorithm 计算最近邻居的算法\n",
    "#### 优缺点\n",
    "1. 优点：简单，容易实现，无需训练\n",
    "2. 缺点：\n",
    "    - 必须指定 k 值， k 值选择不当会影响分类精度\n",
    "    - 懒惰算法，计算量大，内存开销大\n",
    "3. 使用场景：小数据场景，几千-几万样本。"
   ]
  },
  {
   "cell_type": "code",
   "execution_count": 40,
   "id": "4006a563-c06e-4908-93b1-a4d692bdb9d1",
   "metadata": {},
   "outputs": [],
   "source": [
    "# KNN iris \n",
    "# 用 KNN 算法对 iris 数据集分类\n",
    "# attribute information\n",
    "# - sepal length 花萼长度\n",
    "# - sepal width 花萼宽度\n",
    "# - petal length 花瓣长度\n",
    "# - petal width 花瓣宽度\n",
    "# class:\n",
    "#     - iris-setosa 山鸢尾 \n",
    "#     - iris-versicolour 杂色鸢尾\n",
    "#     - iris-virginica 维吉尼亚鸢尾\n",
    "\n",
    "\n",
    "import numpy as np\n",
    "from sklearn.datasets import load_iris\n",
    "from sklearn.model_selection import train_test_split\n",
    "from sklearn.preprocessing import StandardScaler\n",
    "from sklearn.neighbors import KNeighborsClassifier\n",
    "# 1. load iris data\n",
    "iris = load_iris()\n",
    "\n",
    "# 2. spilt dataset\n",
    "X_train,X_test,y_train,y_test = train_test_split(iris.data,iris.target,random_state=30)"
   ]
  },
  {
   "cell_type": "code",
   "execution_count": 41,
   "id": "f6e28d73-468d-4ab8-b50a-1201395a1629",
   "metadata": {},
   "outputs": [],
   "source": [
    "# 3. StandardScaler\n",
    "tf = StandardScaler()\n",
    "x_train = tf.fit_transform(X_train)\n",
    "x_test = tf.transform(X_test)"
   ]
  },
  {
   "cell_type": "code",
   "execution_count": 42,
   "id": "68dfe131-3541-41bc-8dea-37fffd90bb9b",
   "metadata": {},
   "outputs": [
    {
     "data": {
      "text/plain": [
       "KNeighborsClassifier(n_neighbors=15)"
      ]
     },
     "execution_count": 42,
     "metadata": {},
     "output_type": "execute_result"
    }
   ],
   "source": [
    "# 4. KNN\n",
    "estimator = KNeighborsClassifier(n_neighbors=15)\n",
    "estimator.fit(X_train,y_train)\n"
   ]
  },
  {
   "cell_type": "code",
   "execution_count": 47,
   "id": "40480298-d6ba-402f-ae04-a0bc606c8697",
   "metadata": {},
   "outputs": [
    {
     "name": "stdout",
     "output_type": "stream",
     "text": [
      "y_predict=[0 0 0 2 1 1 2 2 1 2 0 2 1 1 0 1 0 0 0 1 2 0 0 0 2 2 1 2 0 1 2 1 2 2 2 2 1\n",
      " 2]\n",
      "y_test == y_predict:\n",
      "[ True  True  True  True  True  True  True  True  True  True  True  True\n",
      "  True  True  True  True  True  True  True  True  True  True  True  True\n",
      "  True  True  True  True  True  True  True  True  True  True  True  True\n",
      "  True  True]\n",
      "y_predict_proba=\n",
      "[[1.         0.         0.        ]\n",
      " [1.         0.         0.        ]\n",
      " [1.         0.         0.        ]\n",
      " [0.         0.2        0.8       ]\n",
      " [0.         1.         0.        ]\n",
      " [0.         1.         0.        ]\n",
      " [0.         0.46666667 0.53333333]\n",
      " [0.         0.06666667 0.93333333]\n",
      " [0.         1.         0.        ]\n",
      " [0.         0.         1.        ]\n",
      " [1.         0.         0.        ]\n",
      " [0.         0.13333333 0.86666667]\n",
      " [0.         1.         0.        ]\n",
      " [0.         1.         0.        ]\n",
      " [1.         0.         0.        ]\n",
      " [0.         1.         0.        ]\n",
      " [1.         0.         0.        ]\n",
      " [1.         0.         0.        ]\n",
      " [1.         0.         0.        ]\n",
      " [0.         0.66666667 0.33333333]\n",
      " [0.         0.46666667 0.53333333]\n",
      " [1.         0.         0.        ]\n",
      " [1.         0.         0.        ]\n",
      " [1.         0.         0.        ]\n",
      " [0.         0.         1.        ]\n",
      " [0.         0.         1.        ]\n",
      " [0.         0.6        0.4       ]\n",
      " [0.         0.         1.        ]\n",
      " [1.         0.         0.        ]\n",
      " [0.         0.86666667 0.13333333]\n",
      " [0.         0.06666667 0.93333333]\n",
      " [0.         1.         0.        ]\n",
      " [0.         0.06666667 0.93333333]\n",
      " [0.         0.4        0.6       ]\n",
      " [0.         0.         1.        ]\n",
      " [0.         0.13333333 0.86666667]\n",
      " [0.         1.         0.        ]\n",
      " [0.         0.13333333 0.86666667]]\n",
      "score:1.0\n"
     ]
    }
   ],
   "source": [
    "# model evaluate\n",
    "# 1. 直接比对真实值和预测值  \n",
    "y_predict = estimator.predict(X_test)  \n",
    "print(f\"y_predict={y_predict}\")\n",
    "print(f\"y_test == y_predict:\\n{y_test == y_predict}\")\n",
    "\n",
    "y_predict_proba = estimator.predict_proba(X_test)\n",
    "print(f\"y_predict_proba=\\n{y_predict_proba}\")\n",
    "\n",
    "# 2. 计算准确率  \n",
    "score = estimator.score(X_test,y_test)\n",
    "print(f\"score:{score}\")"
   ]
  },
  {
   "cell_type": "code",
   "execution_count": 54,
   "id": "2061f51a-d9c8-43f9-a348-42327dca4b5d",
   "metadata": {},
   "outputs": [
    {
     "data": {
      "text/plain": [
       "array([[0. , 0.2, 0.8]])"
      ]
     },
     "execution_count": 54,
     "metadata": {},
     "output_type": "execute_result"
    }
   ],
   "source": [
    "result = estimator.predict_proba(np.array([[5.8, 2.7, 5.1, 1.9]]))\n",
    "result"
   ]
  },
  {
   "cell_type": "code",
   "execution_count": 52,
   "id": "549c1238-2828-485a-935f-871d69ba83d7",
   "metadata": {},
   "outputs": [
    {
     "data": {
      "text/plain": [
       "array([[5.4, 3.4, 1.7, 0.2],\n",
       "       [5.4, 3.9, 1.7, 0.4],\n",
       "       [4.6, 3.1, 1.5, 0.2],\n",
       "       [5.8, 2.7, 5.1, 1.9],\n",
       "       [5.8, 2.7, 3.9, 1.2],\n",
       "       [5.5, 2.4, 3.8, 1.1],\n",
       "       [6.3, 2.7, 4.9, 1.8],\n",
       "       [6.7, 3. , 5.2, 2.3],\n",
       "       [6.4, 2.9, 4.3, 1.3],\n",
       "       [7.3, 2.9, 6.3, 1.8],\n",
       "       [4.4, 3. , 1.3, 0.2],\n",
       "       [6.3, 2.9, 5.6, 1.8],\n",
       "       [5. , 2.3, 3.3, 1. ],\n",
       "       [5.7, 2.8, 4.1, 1.3],\n",
       "       [4.4, 2.9, 1.4, 0.2],\n",
       "       [6.2, 2.9, 4.3, 1.3],\n",
       "       [5.2, 4.1, 1.5, 0.1],\n",
       "       [4.9, 3. , 1.4, 0.2],\n",
       "       [4.8, 3.4, 1.9, 0.2],\n",
       "       [6.3, 2.5, 4.9, 1.5],\n",
       "       [6.3, 2.8, 5.1, 1.5],\n",
       "       [4.4, 3.2, 1.3, 0.2],\n",
       "       [5.1, 3.5, 1.4, 0.2],\n",
       "       [5. , 3.2, 1.2, 0.2],\n",
       "       [7.6, 3. , 6.6, 2.1],\n",
       "       [6.4, 2.8, 5.6, 2.2],\n",
       "       [5.9, 3.2, 4.8, 1.8],\n",
       "       [6.3, 3.4, 5.6, 2.4],\n",
       "       [4.7, 3.2, 1.3, 0.2],\n",
       "       [6.3, 2.3, 4.4, 1.3],\n",
       "       [6.9, 3.1, 5.4, 2.1],\n",
       "       [5.5, 2.4, 3.7, 1. ],\n",
       "       [6.8, 3. , 5.5, 2.1],\n",
       "       [6.1, 3. , 4.9, 1.8],\n",
       "       [7.7, 2.6, 6.9, 2.3],\n",
       "       [6.9, 3.1, 5.1, 2.3],\n",
       "       [5.1, 2.5, 3. , 1.1],\n",
       "       [6.4, 3.1, 5.5, 1.8]])"
      ]
     },
     "execution_count": 52,
     "metadata": {},
     "output_type": "execute_result"
    }
   ],
   "source": [
    "X_test"
   ]
  },
  {
   "cell_type": "code",
   "execution_count": null,
   "id": "129677ad-8443-446b-b0e5-eac8c4cb0202",
   "metadata": {},
   "outputs": [],
   "source": []
  }
 ],
 "metadata": {
  "kernelspec": {
   "display_name": "base",
   "language": "python",
   "name": "base"
  },
  "language_info": {
   "codemirror_mode": {
    "name": "ipython",
    "version": 3
   },
   "file_extension": ".py",
   "mimetype": "text/x-python",
   "name": "python",
   "nbconvert_exporter": "python",
   "pygments_lexer": "ipython3",
   "version": "3.7.11"
  }
 },
 "nbformat": 4,
 "nbformat_minor": 5
}
