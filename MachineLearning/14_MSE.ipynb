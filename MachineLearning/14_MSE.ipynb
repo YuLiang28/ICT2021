{
 "cells": [
  {
   "cell_type": "markdown",
   "metadata": {},
   "source": [
    "### 均方误差 MSE Mean Squared Error\n",
    "计算预测值与真实值之间的距离，来评估模型的预测的准确度  \n",
    "用真实值减预测值然后平方之后求和平均\n",
    "$$MSE=\\frac{1}{n}\\sum^{n}_{i=1}(y_i-\\hat{y_i})^2$$\n",
    "- $\\hat{y_i}$是预测值，$y_i$是真实值\n",
    "### API\n",
    "~~~python\n",
    "sklearn.metrics.mean_squared_error\n",
    "~~~\n",
    "- 均方误差回归损失\n",
    "- y_true: 真实值\n",
    "- y_pred: 预测值\n",
    "- 返回值: loss\n",
    "### 梯度下降和正规方程对比\n",
    "| 梯度下降 | 正规方程 |\n",
    "|  ----  | ----  |\n",
    "| 需要选择学习率 | 不需要 |\n",
    "| 需要迭代求解 | 一次运算得出 |\n",
    "| 特征数量较大可以使用 | 需要计算方程，时间复杂度高 $O(n^3)$ |"
   ]
  },
  {
   "cell_type": "code",
   "execution_count": 10,
   "metadata": {},
   "outputs": [
    {
     "name": "stderr",
     "output_type": "stream",
     "text": [
      "D:\\source\\tools\\miniconda\\lib\\site-packages\\sklearn\\utils\\deprecation.py:87: FutureWarning: Function load_boston is deprecated; `load_boston` is deprecated in 1.0 and will be removed in 1.2.\n",
      "\n",
      "    The Boston housing prices dataset has an ethical problem. You can refer to\n",
      "    the documentation of this function for further details.\n",
      "\n",
      "    The scikit-learn maintainers therefore strongly discourage the use of this\n",
      "    dataset unless the purpose of the code is to study and educate about\n",
      "    ethical issues in data science and machine learning.\n",
      "\n",
      "    In this special case, you can fetch the dataset from the original\n",
      "    source::\n",
      "\n",
      "        import pandas as pd\n",
      "        import numpy as np\n",
      "\n",
      "\n",
      "        data_url = \"http://lib.stat.cmu.edu/datasets/boston\"\n",
      "        raw_df = pd.read_csv(data_url, sep=\"\\s+\", skiprows=22, header=None)\n",
      "        data = np.hstack([raw_df.values[::2, :], raw_df.values[1::2, :2]])\n",
      "        target = raw_df.values[1::2, 2]\n",
      "\n",
      "    Alternative datasets include the California housing dataset (i.e.\n",
      "    :func:`~sklearn.datasets.fetch_california_housing`) and the Ames housing\n",
      "    dataset. You can load the datasets as follows::\n",
      "\n",
      "        from sklearn.datasets import fetch_california_housing\n",
      "        housing = fetch_california_housing()\n",
      "\n",
      "    for the California housing dataset and::\n",
      "\n",
      "        from sklearn.datasets import fetch_openml\n",
      "        housing = fetch_openml(name=\"house_prices\", as_frame=True)\n",
      "\n",
      "    for the Ames housing dataset.\n",
      "    \n",
      "  warnings.warn(msg, category=FutureWarning)\n"
     ]
    },
    {
     "name": "stdout",
     "output_type": "stream",
     "text": [
      "line coef_: [-0.64817766  1.14673408 -0.05949444  0.74216553 -1.95515269  2.70902585\n",
      " -0.07737374 -3.29889391  2.50267196 -1.85679269 -1.75044624  0.87341624\n",
      " -3.91336869]\n",
      "line intercept_: 22.62137203166228\n",
      "sgd coef_: [-0.57945688  1.00234086 -0.35901105  0.8012414  -1.82124885  2.78393064\n",
      " -0.12533797 -3.21724871  1.84703135 -1.11886202 -1.74278683  0.87168865\n",
      " -3.91243407]\n",
      "sgd intercept_: [22.62859651]\n",
      "best_params_ {'eta0': 0.1, 'learning_rate': 'invscaling', 'max_iter': 1000, 'penalty': 'l2'}\n",
      "best_score_ 0.697061856863438\n",
      "sgdGS coef_: [-0.92032309  1.2062615  -0.16573162  0.42470693 -2.01893752  2.94898654\n",
      " -0.33601433 -3.38390482  2.48050597 -1.88396852 -1.81819489  0.64981629\n",
      " -3.96641673]\n",
      "sgdGS intercept_: [22.49171189]\n"
     ]
    }
   ],
   "source": [
    "# 运行线性回归案例\n",
    "%run 13_linear_regression.ipynb\n"
   ]
  },
  {
   "cell_type": "code",
   "execution_count": 11,
   "metadata": {},
   "outputs": [
    {
     "name": "stdout",
     "output_type": "stream",
     "text": [
      "line_err 20.6275137630954\n",
      "sgd_err 20.935412344656605\n",
      "sgdGS_err 19.964860175039927\n"
     ]
    }
   ],
   "source": [
    "# MSE\n",
    "from sklearn.metrics import mean_squared_error\n",
    "line_err = mean_squared_error(y_test,line_pred)\n",
    "sgd_err = mean_squared_error(y_test,sgd_pred)\n",
    "sgdGS_err = mean_squared_error(y_test,sgdGS_pred)\n",
    "\n",
    "print(\"line_err\",line_err)\n",
    "print(\"sgd_err\",sgd_err)\n",
    "print(\"sgdGS_err\",sgdGS_err)\n",
    "\n"
   ]
  }
 ],
 "metadata": {
  "interpreter": {
   "hash": "455d156c2443f23ffeb7a3cb87ade32cade494afff05783b4faa4f6a104c976b"
  },
  "kernelspec": {
   "display_name": "Python 3.7.11 ('base')",
   "language": "python",
   "name": "python3"
  },
  "language_info": {
   "codemirror_mode": {
    "name": "ipython",
    "version": 3
   },
   "file_extension": ".py",
   "mimetype": "text/x-python",
   "name": "python",
   "nbconvert_exporter": "python",
   "pygments_lexer": "ipython3",
   "version": "3.7.11"
  },
  "orig_nbformat": 4
 },
 "nbformat": 4,
 "nbformat_minor": 2
}
