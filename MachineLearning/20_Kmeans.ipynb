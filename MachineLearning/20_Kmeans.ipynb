{
 "cells": [
  {
   "cell_type": "markdown",
   "metadata": {},
   "source": [
    "### 无监督学习 K-means 算法\n",
    "\n",
    "#### 什么是无监督学习\n",
    "- 无监督学习的问题是，在未加标签的数据中，试图找到隐藏的结构。因为提供给学习者的实例是未标记的，因此没有错误或报酬信号来评估潜在的解决方案。\n",
    "- 数据没有类别信息，也不会给定目标值。\n",
    "- 非监督学习包括的类型:\n",
    "  - 聚类: 在无监督学习中，将数据集分成由类似的对象组成多个类的过程称为聚类。\n",
    "  - 密度估计: 通过样本分布的紧密程度，来估计与分组的相似性。\n",
    "  - 此外，无监督学习还可以减少数据特征的维度，以便我们可以使用二维或三维图形更加直观地展示数据信息。\n",
    "#### K-means\n",
    "K-Means 是发现给定数据集的 K 个簇的聚类算法, 之所以称之为 K-均值 是因为它可以发现 K 个不同的簇, 且每个簇的中心采用簇中所含值的均值计算而成.  \n",
    "簇个数 K 是用户指定的, 每一个簇通过其质心（centroid）, 即簇中所有点的中心来描述.  \n",
    "聚类与分类算法的最大区别在于, 分类的目标类别已知, 而聚类的目标类别是未知的.  \n",
    "- 优点:\n",
    "  - 属于无监督学习，无须准备训练集\n",
    "  - 原理简单，实现起来较为容易\n",
    "  - 结果可解释性较好\n",
    "- 缺点:\n",
    "  - 需手动设置k值。 在算法开始预测之前，我们需要手动设置k值，即估计数据大概的类别个数，不合理的k值会使结果缺乏解释性\n",
    "  - 可能收敛到局部最小值, 在大规模数据集上收敛较慢\n",
    "  - 对于异常点、离群点敏感\n",
    "\n",
    "![k-means](src/k-means.png)\n",
    "\n",
    "##### 应用场景\n",
    "kmeans，如前所述，用于数据集内种类属性不明晰，希望能够通过数据挖掘出或自动归类出有相似特点的对象的场景。其商业界的应用场景一般为挖掘出具有相似特点的潜在客户群体以便公司能够重点研究、对症下药。  \n",
    "\n",
    "##### 流程\n",
    "1. 首先, 随机确定 K(超参数) 个初始点作为质心（不必是数据中的点）。\n",
    "2. 然后将数据集中的每个点分配到一个簇中, 具体来讲：\n",
    "     - 为每个点找到距其最近的质心\n",
    "     - 并将其分配该质心所对应的簇\n",
    "     - 这一步完成之后, 每个簇的质心更新为该簇所有点的平均值.\n",
    "3. 重复上述过程直到数据集中的所有点都距离它所对应的质心最近时结束。\n",
    "\n",
    "##### 上述过程的 伪代码 如下:\n",
    "\n",
    "- 创建 k 个点作为起始质心（通常是随机选择）\n",
    "- 当任意一个点的簇分配结果发生改变时（不改变时算法结束）\n",
    "  - 对数据集中的每个数据点\n",
    "    - 对每个质心\n",
    "      - 计算质心与数据点之间的距离\n",
    "    - 将数据点分配到距其最近的簇\n",
    "  - 对每一个簇, 计算簇中所有点的均值并将均值作为质心  \n",
    "![k-means流程](src/k-meansViz.png)\n",
    "##### 如何求中心点？\n",
    "~~~python\n",
    "sklearn.cluster.KMeans\n",
    "~~~\n",
    "- K-means聚类\n",
    "- n_clusters: 即K值，将样本分成几类\n",
    "- init: 初始化方法\n",
    "#### 评估方法\n",
    "- 轮廓系数\n",
    "  - 高内聚，低耦合\n",
    "  - $sc_i=\\frac{b_i-a_i}{max(b_i,a_i)}$\n",
    "  - 对于每个点$i$为已聚类数据中的样本，$b_i$为$i$到其他族群的所有样本的距离最小值，$a_i$为$i$到本身族的距离平均值，最终计算出所有的样本点的轮廓系数平均值\n",
    "  - 如果$b_i>>a_i,sc\\approx\\frac{b_i}{b_i}=1$则说明样本$i$聚类合理\n",
    "  - 如果$b_i<<a_i,sc\\approx\\frac{-a_i}{a_i}=-1$则说明样本$i$更应该分类到另外的簇\n",
    "  - 若$sc_i$ 近似为0，则说明样本$i$在两个簇的边界上\n",
    "\n",
    "![轮廓系数](src/silhouette_coefficient.png)\n",
    "\n",
    "#### API\n",
    "~~~python\n",
    "sklearn.metrics.silhouette_score\n",
    "~~~\n",
    "- 计算所有样本的平均轮廓系数\n",
    "- X: 特征值\n",
    "- labels: 聚类标记的目标值\n",
    "### 总结\n",
    "- 特点：采用迭代算法，直观易懂，实用\n",
    "- 缺点：容易收敛到局部最优解（多次聚类）\n",
    "- 聚类一般用在分类之前\n"
   ]
  },
  {
   "cell_type": "code",
   "execution_count": 32,
   "metadata": {},
   "outputs": [],
   "source": [
    "%run 4_instacart_pca.ipynb\n"
   ]
  },
  {
   "cell_type": "code",
   "execution_count": 33,
   "metadata": {},
   "outputs": [],
   "source": [
    "# 标准化\n",
    "from sklearn.preprocessing import StandardScaler\n",
    "x_train = pcaData\n",
    "std = StandardScaler()\n",
    "x_train = std.fit_transform(x_train)"
   ]
  },
  {
   "cell_type": "code",
   "execution_count": 34,
   "metadata": {},
   "outputs": [
    {
     "data": {
      "text/plain": [
       "KMeans(n_clusters=3)"
      ]
     },
     "execution_count": 34,
     "metadata": {},
     "output_type": "execute_result"
    }
   ],
   "source": [
    "# k-means\n",
    "from sklearn.cluster import KMeans\n",
    "kmeans = KMeans(n_clusters=3)\n",
    "kmeans.fit(x_train)\n"
   ]
  },
  {
   "cell_type": "code",
   "execution_count": 35,
   "metadata": {},
   "outputs": [],
   "source": [
    "y_pred = kmeans.predict(x_train)"
   ]
  },
  {
   "cell_type": "code",
   "execution_count": 37,
   "metadata": {},
   "outputs": [
    {
     "data": {
      "text/plain": [
       "array([1, 1, 1, 1, 1, 1, 1, 1, 1, 1, 1, 1, 1, 1, 1, 1, 0, 1, 1, 1, 1, 1,\n",
       "       1, 1, 1, 1, 0, 1, 1, 1, 0, 1, 1, 1, 1, 1, 1, 1, 1, 1, 1, 1, 1, 1,\n",
       "       1, 1, 1, 1, 1, 0, 1, 1, 1, 0, 1, 1, 1, 1, 1, 1, 1, 1, 0, 1, 1, 1,\n",
       "       1, 1, 1, 1, 0, 1, 1, 1, 1, 1, 1, 1, 1, 1, 1, 1, 1, 1, 1, 1, 1, 1,\n",
       "       1, 0, 1, 1, 1, 1, 1, 1, 1, 1, 1, 1, 1, 1, 1, 1, 1, 1, 1, 1, 1, 0,\n",
       "       1, 1, 1, 1, 1, 1, 1, 1, 1, 1, 1, 1, 1, 1, 1, 1, 0, 1, 1, 1, 1, 1,\n",
       "       0, 1, 1, 1, 1, 1, 1, 2, 1, 0, 1, 1, 1, 0, 1, 1, 1, 1, 1, 0, 1, 0,\n",
       "       1, 1, 1, 1, 1, 1, 1, 1, 1, 1, 1, 1, 1, 1, 1, 1, 1, 1, 1, 1, 1, 1,\n",
       "       1, 1, 1, 1, 1, 1, 1, 1, 1, 1, 1, 1, 1, 1, 1, 1, 1, 1, 1, 1, 0, 1,\n",
       "       1, 1, 1, 0, 1, 0, 1, 1, 1, 1, 1, 0, 1, 1, 1, 0, 1, 0, 1, 1, 0, 1,\n",
       "       1, 0, 0, 1, 1, 1, 0, 1, 1, 1, 1, 0, 1, 0, 1, 0, 1, 1, 1, 1, 1, 1,\n",
       "       0, 1, 1, 1, 1, 1, 1, 1, 1, 1, 1, 1, 1, 1, 1, 1, 1, 1, 1, 1, 1, 0,\n",
       "       1, 1, 1, 1, 1, 1, 1, 1, 1, 1, 1, 1, 1, 0, 1, 0, 1, 1, 1, 1, 1, 1,\n",
       "       1, 1, 0, 0, 1, 1, 1, 1, 1, 1, 1, 1, 1, 1])"
      ]
     },
     "execution_count": 37,
     "metadata": {},
     "output_type": "execute_result"
    }
   ],
   "source": [
    "y_pred[:300]"
   ]
  },
  {
   "cell_type": "code",
   "execution_count": 38,
   "metadata": {},
   "outputs": [
    {
     "data": {
      "text/plain": [
       "0.5564047893024819"
      ]
     },
     "execution_count": 38,
     "metadata": {},
     "output_type": "execute_result"
    }
   ],
   "source": [
    "# 模型评估\n",
    "from sklearn.metrics import silhouette_score\n",
    "silhouette_score(x_train, y_pred)"
   ]
  }
 ],
 "metadata": {
  "interpreter": {
   "hash": "455d156c2443f23ffeb7a3cb87ade32cade494afff05783b4faa4f6a104c976b"
  },
  "kernelspec": {
   "display_name": "Python 3.7.11 ('base')",
   "language": "python",
   "name": "python3"
  },
  "language_info": {
   "codemirror_mode": {
    "name": "ipython",
    "version": 3
   },
   "file_extension": ".py",
   "mimetype": "text/x-python",
   "name": "python",
   "nbconvert_exporter": "python",
   "pygments_lexer": "ipython3",
   "version": "3.7.11"
  },
  "orig_nbformat": 4
 },
 "nbformat": 4,
 "nbformat_minor": 2
}
