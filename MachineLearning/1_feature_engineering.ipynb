{
 "cells": [
  {
   "cell_type": "code",
   "execution_count": 1,
   "id": "2a347435-119f-4775-b364-484f7db83e52",
   "metadata": {},
   "outputs": [],
   "source": [
    "# part 1\n",
    "# feature extraction 特征提取 \n"
   ]
  },
  {
   "cell_type": "code",
   "execution_count": 13,
   "id": "6ac580ba-48e9-44e2-b28a-517fb1fc9266",
   "metadata": {},
   "outputs": [
    {
     "name": "stdout",
     "output_type": "stream",
     "text": [
      "['city=上海', 'city=北京', 'city=深圳', 'temperature']\n",
      "  (0, 1)\t1.0\n",
      "  (0, 3)\t100.0\n",
      "  (1, 0)\t1.0\n",
      "  (1, 3)\t60.0\n",
      "  (2, 2)\t1.0\n",
      "  (2, 3)\t30.0\n",
      "['city=上海', 'city=北京', 'city=深圳', 'temperature']\n",
      "[[  0.   1.   0. 100.]\n",
      " [  1.   0.   0.  60.]\n",
      " [  0.   0.   1.  30.]]\n"
     ]
    }
   ],
   "source": [
    "from sklearn.feature_extraction import DictVectorizer\n",
    "# DictVectorizer 字典特征提取\n",
    "# 数据集当中类型特征特别多的情况需要特征提取\n",
    "# 矩阵 - matrix - 二维数组\n",
    "# 向量 - vector - 一维数组\n",
    "\n",
    "# 重点： 类别通过 one-hot 编码\n",
    "\n",
    "dictData = [{\n",
    "            'city':\"北京\",'temperature':100\n",
    "            },{\n",
    "            'city':\"上海\",'temperature':60\n",
    "            },{\n",
    "            'city':\"深圳\",'temperature':30\n",
    "            },]\n",
    "# 1. 实例化转换器类\n",
    "transfer_sparse = DictVectorizer()\n",
    "transfer = DictVectorizer(sparse=False)\n",
    "\n",
    "# 2. fit_transform() default return sparse matrix.\n",
    "# 默认返回稀疏矩阵\n",
    "data_new_s = transfer_sparse.fit_transform(dictData)\n",
    "data_new = transfer.fit_transform(dictData)\n",
    "\n",
    "print(transfer_sparse.feature_names_)\n",
    "print(data_new_s)\n",
    "# (0, 1)\t1.0\n",
    "# (0, 3)\t100.0\n",
    "# (1, 0)\t1.0\n",
    "# (1, 3)\t60.0\n",
    "# (2, 2)\t1.0\n",
    "# (2, 3)\t30.0\n",
    "print(transfer.feature_names_)\n",
    "print(data_new)\n",
    "# ['city=上海', 'city=北京', 'city=深圳', 'temperature']\n",
    "# [[  0.   1.   0. 100.]\n",
    "#  [  1.   0.   0.  60.]\n",
    "#  [  0.   0.   1.  30.]]\n",
    "\n",
    "# 稀疏矩阵前的元组是非稀疏矩阵的位置，后面是值\n",
    "# 稀疏矩阵只有非零值\n",
    "# 当类型特别多时，用稀疏矩阵能有效节省内存\n"
   ]
  },
  {
   "cell_type": "code",
   "execution_count": 24,
   "id": "1e8a8213-0872-4134-88b2-738de4ad6cfc",
   "metadata": {},
   "outputs": [
    {
     "name": "stdout",
     "output_type": "stream",
     "text": [
      "['人生苦短' '我爱python']\n",
      "[[0 1 1 1 0 1 1 0]\n",
      " [1 1 1 0 1 1 0 1]]\n",
      "[[1 0]\n",
      " [0 1]]\n"
     ]
    }
   ],
   "source": [
    "# 文本特征提取\n",
    "\n",
    "from sklearn.feature_extraction.text import CountVectorizer \n",
    "# function 1\n",
    "# CountVectorizer \n",
    "# return: matrix of token counts\n",
    "\n",
    "data = [\"life is short,i like python\",\"life is too long,i dislike python\"]\n",
    "data_zh = [\"人生苦短\",\"我爱Python\"]\n",
    "# 1. 实例化转换器类\n",
    "transfer = CountVectorizer()\n",
    "# fit_transform\n",
    "data_new = transfer.fit_transform(data)\n",
    "data_cn_new = transfer.fit_transform(data_zh)\n",
    "print(transfer.get_feature_names_out())\n",
    "print(data_new.toarray())\n",
    "\n",
    "\n",
    "print(data_cn_new.toarray())\n",
    "\n"
   ]
  }
 ],
 "metadata": {
  "kernelspec": {
   "display_name": "base",
   "language": "python",
   "name": "base"
  },
  "language_info": {
   "codemirror_mode": {
    "name": "ipython",
    "version": 3
   },
   "file_extension": ".py",
   "mimetype": "text/x-python",
   "name": "python",
   "nbconvert_exporter": "python",
   "pygments_lexer": "ipython3",
   "version": "3.7.11"
  }
 },
 "nbformat": 4,
 "nbformat_minor": 5
}
