{
 "cells": [
  {
   "cell_type": "code",
   "execution_count": 1,
   "id": "2a347435-119f-4775-b364-484f7db83e52",
   "metadata": {},
   "outputs": [],
   "source": [
    "# part 1\n",
    "# feature extraction 特征提取 \n"
   ]
  },
  {
   "cell_type": "code",
   "execution_count": 13,
   "id": "6ac580ba-48e9-44e2-b28a-517fb1fc9266",
   "metadata": {},
   "outputs": [
    {
     "name": "stdout",
     "output_type": "stream",
     "text": [
      "['city=上海', 'city=北京', 'city=深圳', 'temperature']\n",
      "  (0, 1)\t1.0\n",
      "  (0, 3)\t100.0\n",
      "  (1, 0)\t1.0\n",
      "  (1, 3)\t60.0\n",
      "  (2, 2)\t1.0\n",
      "  (2, 3)\t30.0\n",
      "['city=上海', 'city=北京', 'city=深圳', 'temperature']\n",
      "[[  0.   1.   0. 100.]\n",
      " [  1.   0.   0.  60.]\n",
      " [  0.   0.   1.  30.]]\n"
     ]
    }
   ],
   "source": [
    "from sklearn.feature_extraction import DictVectorizer\n",
    "# DictVectorizer 字典特征提取\n",
    "# 数据集当中类型特征特别多的情况需要特征提取\n",
    "# 矩阵 - matrix - 二维数组\n",
    "# 向量 - vector - 一维数组\n",
    "\n",
    "# 重点： 类别通过 one-hot 编码\n",
    "\n",
    "dictData = [{\n",
    "            'city':\"北京\",'temperature':100\n",
    "            },{\n",
    "            'city':\"上海\",'temperature':60\n",
    "            },{\n",
    "            'city':\"深圳\",'temperature':30\n",
    "            },]\n",
    "# 1. 实例化转换器类\n",
    "transfer_sparse = DictVectorizer()\n",
    "transfer = DictVectorizer(sparse=False)\n",
    "\n",
    "# 2. fit_transform() default return sparse matrix.\n",
    "# 默认返回稀疏矩阵\n",
    "data_new_s = transfer_sparse.fit_transform(dictData)\n",
    "data_new = transfer.fit_transform(dictData)\n",
    "\n",
    "print(transfer_sparse.feature_names_)\n",
    "print(data_new_s)\n",
    "# (0, 1)\t1.0\n",
    "# (0, 3)\t100.0\n",
    "# (1, 0)\t1.0\n",
    "# (1, 3)\t60.0\n",
    "# (2, 2)\t1.0\n",
    "# (2, 3)\t30.0\n",
    "print(transfer.feature_names_)\n",
    "print(data_new)\n",
    "# ['city=上海', 'city=北京', 'city=深圳', 'temperature']\n",
    "# [[  0.   1.   0. 100.]\n",
    "#  [  1.   0.   0.  60.]\n",
    "#  [  0.   0.   1.  30.]]\n",
    "\n",
    "# 稀疏矩阵前的元组是非稀疏矩阵的位置，后面是值\n",
    "# 稀疏矩阵只有非零值\n",
    "# 当类型特别多时，用稀疏矩阵能有效节省内存\n"
   ]
  },
  {
   "cell_type": "code",
   "execution_count": 26,
   "id": "1e8a8213-0872-4134-88b2-738de4ad6cfc",
   "metadata": {},
   "outputs": [
    {
     "name": "stdout",
     "output_type": "stream",
     "text": [
      "['dislike' 'is' 'life' 'like' 'long' 'python' 'short' 'too']\n",
      "[[0 1 1 1 0 1 1 0]\n",
      " [1 1 1 0 1 1 0 1]]\n"
     ]
    }
   ],
   "source": [
    "# 文本特征提取(english)\n",
    "\n",
    "from sklearn.feature_extraction.text import CountVectorizer \n",
    "# function 1\n",
    "# CountVectorizer \n",
    "# return: matrix of token counts\n",
    "\n",
    "data = [\"life is short,i like python\",\"life is too long,i dislike python\"]\n",
    "# 1. 实例化转换器类\n",
    "transfer = CountVectorizer()\n",
    "# fit_transform\n",
    "data_new = transfer.fit_transform(data)\n",
    "print(transfer.get_feature_names_out())\n",
    "print(data_new.toarray())\n"
   ]
  },
  {
   "cell_type": "code",
   "execution_count": 5,
   "id": "d86df860-3c0e-4e96-b0db-6d6bc828cc21",
   "metadata": {},
   "outputs": [
    {
     "name": "stdout",
     "output_type": "stream",
     "text": [
      "['不会' '之前' '了解' '事物' '今天' '光是在' '几百万年' '发出' '取决于' '只用' '后天' '含义' '大部分'\n",
      " '如何' '如果' '宇宙' '我们' '所以' '放弃' '方式' '明天' '星系' '晚上' '某样' '残酷' '每个' '看到'\n",
      " '真正' '秘密' '绝对' '美好' '联系' '过去' '还是' '这样']\n",
      "[[0 0 0 0 2 0 0 0 0 0 1 0 1 0 0 0 0 1 1 0 2 0 1 0 2 1 0 0 0 1 1 0 0 1 0]\n",
      " [0 1 0 0 0 1 1 1 0 0 0 0 0 0 0 1 3 0 0 0 0 1 0 0 0 0 2 0 0 0 0 0 1 0 1]\n",
      " [1 0 4 3 0 0 0 0 1 1 0 1 0 1 1 0 1 0 0 1 0 0 0 1 0 0 0 2 1 0 0 1 0 0 0]]\n"
     ]
    }
   ],
   "source": [
    "# 文本特征提取（chinese）\n",
    "from sklearn.feature_extraction.text import CountVectorizer \n",
    "import jieba\n",
    "data = [\"一种还是一种今天很残酷，明天更残酷，后天很美好，但绝对大部分是死在明天晚上，所以每个人不要放弃今天。\",\n",
    "        \"我们看到的从很远星系来的光是在几百万年之前发出的，这样当我们看到宇宙时，我们是在看它的过去。\",\n",
    "        \"如果只用一种方式了解某样事物，你就不会真正了解它。了解事物真正含义的秘密取决于如何将其与我们所了解的事物相联系。\"]\n",
    "data_cut = []\n",
    "for s in data:\n",
    "    data_cut.append(\" \".join(jieba.lcut(s)))\n",
    "# 1. 实例化转换器类\n",
    "transfer = CountVectorizer(stop_words=[\"一种\",\"不要\"]) # stop_words 停用词表\n",
    "# fit_transform\n",
    "data_new = transfer.fit_transform(data_cut)\n",
    "print(transfer.get_feature_names_out())\n",
    "print(data_new.toarray())\n",
    "\n",
    "\n",
    "\n",
    "\n"
   ]
  },
  {
   "cell_type": "code",
   "execution_count": 10,
   "id": "ec90ff7d-9f82-41fd-b067-31ea4beb7ac8",
   "metadata": {},
   "outputs": [
    {
     "name": "stdout",
     "output_type": "stream",
     "text": [
      "['一种' '不会' '不要' '之前' '了解' '事物' '今天' '光是在' '几百万年' '发出' '取决于' '只用' '后天' '含义'\n",
      " '大部分' '如何' '如果' '宇宙' '我们' '所以' '放弃' '方式' '明天' '星系' '晚上' '某样' '残酷' '每个'\n",
      " '看到' '真正' '秘密' '绝对' '美好' '联系' '过去' '还是' '这样']\n",
      "[[0.30847454 0.         0.20280347 0.         0.         0.\n",
      "  0.40560694 0.         0.         0.         0.         0.\n",
      "  0.20280347 0.         0.20280347 0.         0.         0.\n",
      "  0.         0.20280347 0.20280347 0.         0.40560694 0.\n",
      "  0.20280347 0.         0.40560694 0.20280347 0.         0.\n",
      "  0.         0.20280347 0.20280347 0.         0.         0.20280347\n",
      "  0.        ]\n",
      " [0.         0.         0.         0.2410822  0.         0.\n",
      "  0.         0.2410822  0.2410822  0.2410822  0.         0.\n",
      "  0.         0.         0.         0.         0.         0.2410822\n",
      "  0.55004769 0.         0.         0.         0.         0.2410822\n",
      "  0.         0.         0.         0.         0.48216441 0.\n",
      "  0.         0.         0.         0.         0.2410822  0.\n",
      "  0.2410822 ]\n",
      " [0.12001469 0.15780489 0.         0.         0.63121956 0.47341467\n",
      "  0.         0.         0.         0.         0.15780489 0.15780489\n",
      "  0.         0.15780489 0.         0.15780489 0.15780489 0.\n",
      "  0.12001469 0.         0.         0.15780489 0.         0.\n",
      "  0.         0.15780489 0.         0.         0.         0.31560978\n",
      "  0.15780489 0.         0.         0.15780489 0.         0.\n",
      "  0.        ]]\n",
      "0.6312195603528589\n"
     ]
    }
   ],
   "source": [
    "# tf-idf 文本特征提取\n",
    "# term frequency–inverse document frequency\n",
    "# tf-idf 用于挖掘文章中的关键词\n",
    "# tf 词频 某一个词在文章中的频率 term frequency\n",
    "# idf 逆向文档频率 一个词语普遍重要性的度量inverse document frequency\n",
    "# idf = lg(语料库的文档总数/包含该词的文档数+1)\n",
    "# tf-if = tf * idf\n",
    "# tf-idf 值越大，用来做分类的价值就越高\n",
    "from sklearn.feature_extraction.text import TfidfVectorizer\n",
    "import numpy as np\n",
    "transfer = TfidfVectorizer()\n",
    "data_new = transfer.fit_transform(data_cut)\n",
    "print(transfer.get_feature_names_out())\n",
    "print(data_new.toarray())\n",
    "print(np.amax(data_new)) # 最大 tf-idf\n"
   ]
  },
  {
   "cell_type": "code",
   "execution_count": null,
   "id": "8d566a52-10e9-44ce-bdbc-13da129bffcd",
   "metadata": {},
   "outputs": [],
   "source": []
  }
 ],
 "metadata": {
  "kernelspec": {
   "display_name": "base",
   "language": "python",
   "name": "base"
  },
  "language_info": {
   "codemirror_mode": {
    "name": "ipython",
    "version": 3
   },
   "file_extension": ".py",
   "mimetype": "text/x-python",
   "name": "python",
   "nbconvert_exporter": "python",
   "pygments_lexer": "ipython3",
   "version": "3.7.11"
  }
 },
 "nbformat": 4,
 "nbformat_minor": 5
}
