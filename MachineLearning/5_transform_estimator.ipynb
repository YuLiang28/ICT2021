{
 "cells": [
  {
   "cell_type": "markdown",
   "id": "c71a1f8e-f2df-4ab5-beea-8bb7a83a783d",
   "metadata": {},
   "source": [
    "### 转换器和估计器\n",
    "#### 转换器（所有特征工程的父类）\n",
    "转换器使用流程：\n",
    "1. 实例化\n",
    "2. fit_transform  \n",
    "    其实是两个操作，以标准化的fit_transform为例子\n",
    "    - fit 计算每一列的平均值、标准差\n",
    "    - transform （x - mean ） / std 进行最终的转换\n",
    "#### 估计器（机器学习算法的实现）\n",
    "估计器的使用流程:\n",
    "1. 实例化 estimator\n",
    "2. estimator.fit(x_train,y_train) 计算，调用完毕，模型生成\n",
    "3. 模型评估：\n",
    "    - 直接比对真实值和预测值  \n",
    "        y_predict = estimator.predict(x_test)  \n",
    "        y_test == y_predict  \n",
    "    - 计算准确率  \n",
    "        accuracy = estimator.score(x_test,y_test)"
   ]
  },
  {
   "cell_type": "code",
   "execution_count": null,
   "id": "599ddb74-e2be-4d9d-af06-c67cb8b3398f",
   "metadata": {},
   "outputs": [],
   "source": []
  }
 ],
 "metadata": {
  "kernelspec": {
   "display_name": "base",
   "language": "python",
   "name": "base"
  },
  "language_info": {
   "codemirror_mode": {
    "name": "ipython",
    "version": 3
   },
   "file_extension": ".py",
   "mimetype": "text/x-python",
   "name": "python",
   "nbconvert_exporter": "python",
   "pygments_lexer": "ipython3",
   "version": "3.7.11"
  }
 },
 "nbformat": 4,
 "nbformat_minor": 5
}
