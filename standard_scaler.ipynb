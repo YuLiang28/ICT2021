{
 "cells": [
  {
   "cell_type": "code",
   "execution_count": 6,
   "id": "bc4496a3-11b7-4551-b82b-8bbe071fa0ce",
   "metadata": {},
   "outputs": [],
   "source": [
    "import numpy as np\n",
    "\n",
    "# make range 0 to 1\n",
    "\n",
    "x=[-1,-0.5,0,2]\n"
   ]
  },
  {
   "cell_type": "code",
   "execution_count": 8,
   "id": "964e295d-5f30-4ddc-ae45-800a3153a5fc",
   "metadata": {},
   "outputs": [
    {
     "name": "stdout",
     "output_type": "stream",
     "text": [
      "[0.  0.5 1.  3. ]\n"
     ]
    }
   ],
   "source": [
    "x=np.array(x)\n",
    "\n",
    "\n",
    "x=x-np.amin(x) \n",
    "\n",
    "print(x)"
   ]
  },
  {
   "cell_type": "code",
   "execution_count": 11,
   "id": "7b448e23-2090-479c-8a60-6df233ff480f",
   "metadata": {},
   "outputs": [
    {
     "name": "stdout",
     "output_type": "stream",
     "text": [
      "[0.         0.16666667 0.33333333 1.        ]\n"
     ]
    }
   ],
   "source": [
    "x=x/np.amax(x)\n",
    "\n",
    "\n",
    "print(x)\n"
   ]
  },
  {
   "cell_type": "code",
   "execution_count": 16,
   "id": "e51ade0c-8a38-4c02-9d1d-ee660c451da3",
   "metadata": {},
   "outputs": [
    {
     "name": "stdout",
     "output_type": "stream",
     "text": [
      "[[ 0  0]\n",
      " [ 0  0]\n",
      " [ 1  1]\n",
      " [ 1  1]\n",
      " [ 2 20]]\n"
     ]
    }
   ],
   "source": [
    "from sklearn.preprocessing import StandardScaler\n",
    "\n",
    "data = np.array([[0, 0], [0, 0], [1, 1], [1, 1],[2,20]])\n",
    "\n",
    "print(data)\n"
   ]
  },
  {
   "cell_type": "code",
   "execution_count": 17,
   "id": "553931cf-fd37-49cc-b490-9d684900f3ef",
   "metadata": {},
   "outputs": [
    {
     "name": "stdout",
     "output_type": "stream",
     "text": [
      "[[-1.06904497 -0.56317765]\n",
      " [-1.06904497 -0.56317765]\n",
      " [ 0.26726124 -0.43518273]\n",
      " [ 0.26726124 -0.43518273]\n",
      " [ 1.60356745  1.99672077]]\n"
     ]
    }
   ],
   "source": [
    "\n",
    "scaler = StandardScaler()\n",
    "\n",
    "scaler.fit(data)\n",
    "\n",
    "data_new = scaler.transform(data)\n",
    "\n",
    "print(data_new)\n"
   ]
  }
 ],
 "metadata": {
  "kernelspec": {
   "display_name": "base",
   "language": "python",
   "name": "base"
  },
  "language_info": {
   "codemirror_mode": {
    "name": "ipython",
    "version": 3
   },
   "file_extension": ".py",
   "mimetype": "text/x-python",
   "name": "python",
   "nbconvert_exporter": "python",
   "pygments_lexer": "ipython3",
   "version": "3.7.11"
  }
 },
 "nbformat": 4,
 "nbformat_minor": 5
}
