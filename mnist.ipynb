{
 "cells": [
  {
   "cell_type": "code",
   "execution_count": 3,
   "id": "d6bc5208-5d49-47aa-baaa-6fb1aa9bb288",
   "metadata": {},
   "outputs": [
    {
     "name": "stdout",
     "output_type": "stream",
     "text": [
      "TensorFlow version: 2.7.0\n"
     ]
    }
   ],
   "source": [
    "import tensorflow as tf\n",
    "print(\"TensorFlow version:\", tf.__version__)"
   ]
  },
  {
   "cell_type": "code",
   "execution_count": 4,
   "id": "fd6aa2ac-7957-4f60-bf7e-f123276a9679",
   "metadata": {},
   "outputs": [
    {
     "name": "stdout",
     "output_type": "stream",
     "text": [
      "Downloading data from https://storage.googleapis.com/tensorflow/tf-keras-datasets/mnist.npz\n",
      "11493376/11490434 [==============================] - 2s 0us/step\n",
      "11501568/11490434 [==============================] - 2s 0us/step\n"
     ]
    }
   ],
   "source": [
    "mnist = tf.keras.datasets.mnist\n",
    "\n",
    "(x_train, y_train), (x_test, y_test) = mnist.load_data()\n",
    "x_train, x_test = x_train / 255.0, x_test / 255.0"
   ]
  },
  {
   "cell_type": "code",
   "execution_count": 5,
   "id": "4b10fef8-fb29-42ee-bff7-5fdbfe7a3b23",
   "metadata": {},
   "outputs": [],
   "source": [
    "model = tf.keras.models.Sequential([\n",
    "  tf.keras.layers.Flatten(input_shape=(28, 28)),\n",
    "  tf.keras.layers.Dense(128, activation='relu'),\n",
    "  tf.keras.layers.Dropout(0.2),\n",
    "  tf.keras.layers.Dense(10)\n",
    "])"
   ]
  },
  {
   "cell_type": "code",
   "execution_count": 7,
   "id": "4f755abf-06cb-41ca-bb64-ed770044c32e",
   "metadata": {},
   "outputs": [
    {
     "data": {
      "text/plain": [
       "array([[-0.6030581 , -0.7105401 ,  0.03247918,  0.17695332, -0.23444295,\n",
       "         0.85401547,  0.35059536,  0.41662744, -0.19619048,  0.27486643]],\n",
       "      dtype=float32)"
      ]
     },
     "execution_count": 7,
     "metadata": {},
     "output_type": "execute_result"
    }
   ],
   "source": [
    "predictions = model(x_train[:1]).numpy()\n",
    "predictions"
   ]
  },
  {
   "cell_type": "code",
   "execution_count": 9,
   "id": "e05e0f2d-464b-403b-b567-6c611097530a",
   "metadata": {},
   "outputs": [
    {
     "data": {
      "text/plain": [
       "array([[0.04765936, 0.04280252, 0.0899826 , 0.10396876, 0.06890262,\n",
       "        0.2046196 , 0.12368432, 0.13212714, 0.07158937, 0.11466371]],\n",
       "      dtype=float32)"
      ]
     },
     "execution_count": 9,
     "metadata": {},
     "output_type": "execute_result"
    }
   ],
   "source": [
    "tf.nn.softmax(predictions).numpy()"
   ]
  },
  {
   "cell_type": "code",
   "execution_count": 11,
   "id": "ff9c3565-8b97-4ea0-b9e0-88e6f426f57f",
   "metadata": {},
   "outputs": [],
   "source": [
    "loss_fn = tf.keras.losses.SparseCategoricalCrossentropy(from_logits=True)"
   ]
  },
  {
   "cell_type": "code",
   "execution_count": 12,
   "id": "ed59dd7b-3632-42e5-8aa5-c3c8efb1f1b4",
   "metadata": {},
   "outputs": [
    {
     "data": {
      "text/plain": [
       "1.5866027"
      ]
     },
     "execution_count": 12,
     "metadata": {},
     "output_type": "execute_result"
    }
   ],
   "source": [
    "loss_fn(y_train[:1], predictions).numpy()"
   ]
  },
  {
   "cell_type": "code",
   "execution_count": 13,
   "id": "06e0f2d1-93eb-4872-8945-5f4a610a8e48",
   "metadata": {},
   "outputs": [],
   "source": [
    "model.compile(optimizer='adam',\n",
    "              loss=loss_fn,\n",
    "              metrics=['accuracy'])"
   ]
  },
  {
   "cell_type": "code",
   "execution_count": 16,
   "id": "12fd4a2a-8c9e-4228-8669-1b72aace84f4",
   "metadata": {},
   "outputs": [
    {
     "name": "stdout",
     "output_type": "stream",
     "text": [
      "Epoch 1/15\n",
      "1875/1875 [==============================] - 2s 1ms/step - loss: 0.0303 - accuracy: 0.9895\n",
      "Epoch 2/15\n",
      "1875/1875 [==============================] - 2s 1ms/step - loss: 0.0285 - accuracy: 0.9901\n",
      "Epoch 3/15\n",
      "1875/1875 [==============================] - 3s 1ms/step - loss: 0.0270 - accuracy: 0.9906\n",
      "Epoch 4/15\n",
      "1875/1875 [==============================] - 3s 1ms/step - loss: 0.0256 - accuracy: 0.9910\n",
      "Epoch 5/15\n",
      "1875/1875 [==============================] - 2s 1ms/step - loss: 0.0260 - accuracy: 0.9913\n",
      "Epoch 6/15\n",
      "1875/1875 [==============================] - 2s 1ms/step - loss: 0.0256 - accuracy: 0.9915\n",
      "Epoch 7/15\n",
      "1875/1875 [==============================] - 2s 1ms/step - loss: 0.0241 - accuracy: 0.9916\n",
      "Epoch 8/15\n",
      "1875/1875 [==============================] - 2s 1ms/step - loss: 0.0222 - accuracy: 0.9924\n",
      "Epoch 9/15\n",
      "1875/1875 [==============================] - 2s 1ms/step - loss: 0.0237 - accuracy: 0.9915\n",
      "Epoch 10/15\n",
      "1875/1875 [==============================] - 2s 1ms/step - loss: 0.0224 - accuracy: 0.9922\n",
      "Epoch 11/15\n",
      "1875/1875 [==============================] - 2s 1ms/step - loss: 0.0203 - accuracy: 0.9931\n",
      "Epoch 12/15\n",
      "1875/1875 [==============================] - 3s 1ms/step - loss: 0.0208 - accuracy: 0.9929\n",
      "Epoch 13/15\n",
      "1875/1875 [==============================] - 2s 1ms/step - loss: 0.0210 - accuracy: 0.9930\n",
      "Epoch 14/15\n",
      "1875/1875 [==============================] - 2s 1ms/step - loss: 0.0199 - accuracy: 0.9930\n",
      "Epoch 15/15\n",
      "1875/1875 [==============================] - 2s 1ms/step - loss: 0.0190 - accuracy: 0.9933\n"
     ]
    },
    {
     "data": {
      "text/plain": [
       "<keras.callbacks.History at 0x123c6467c08>"
      ]
     },
     "execution_count": 16,
     "metadata": {},
     "output_type": "execute_result"
    }
   ],
   "source": [
    "model.fit(x_train, y_train, epochs=15)"
   ]
  },
  {
   "cell_type": "code",
   "execution_count": 17,
   "id": "46aaeeb2-bcff-49de-8f7b-31b0420544b3",
   "metadata": {},
   "outputs": [
    {
     "name": "stdout",
     "output_type": "stream",
     "text": [
      "313/313 - 0s - loss: 0.0866 - accuracy: 0.9795 - 343ms/epoch - 1ms/step\n"
     ]
    },
    {
     "data": {
      "text/plain": [
       "[0.08656476438045502, 0.9794999957084656]"
      ]
     },
     "execution_count": 17,
     "metadata": {},
     "output_type": "execute_result"
    }
   ],
   "source": [
    "model.evaluate(x_test,  y_test, verbose=2)"
   ]
  },
  {
   "cell_type": "code",
   "execution_count": 18,
   "id": "f2987a5a-9478-43c9-999f-ef44adc7e72a",
   "metadata": {},
   "outputs": [
    {
     "data": {
      "text/plain": [
       "array([[-21.874552  , -20.100832  , -15.338499  , ...,  14.344086  ,\n",
       "        -14.98997   ,  -1.1310833 ],\n",
       "       [ -9.437664  ,  -7.704792  ,  19.73179   , ..., -46.52011   ,\n",
       "        -10.21374   , -57.838406  ],\n",
       "       [-22.95237   ,  10.6097975 ,  -2.4324167 , ...,  -4.7540193 ,\n",
       "         -3.5899105 , -20.335548  ],\n",
       "       ...,\n",
       "       [-38.223663  , -30.249802  , -31.184275  , ...,  -0.39932847,\n",
       "         -5.6503143 ,   2.6615844 ],\n",
       "       [-27.609118  , -33.723293  , -36.89914   , ..., -12.932465  ,\n",
       "         -3.132928  , -20.053223  ],\n",
       "       [-15.663222  , -36.65502   , -14.097044  , ..., -26.284243  ,\n",
       "        -13.795318  , -18.947517  ]], dtype=float32)"
      ]
     },
     "execution_count": 18,
     "metadata": {},
     "output_type": "execute_result"
    }
   ],
   "source": [
    "model.predict(x_test)"
   ]
  },
  {
   "cell_type": "code",
   "execution_count": 24,
   "id": "6bc9017c-08c4-4a29-9b82-0584a75ea5d0",
   "metadata": {},
   "outputs": [
    {
     "data": {
      "text/plain": [
       "<tf.Tensor: shape=(10000, 10), dtype=float32, numpy=\n",
       "array([[-21.874554 , -20.100832 , -15.338503 , ...,  14.344085 ,\n",
       "        -14.989968 ,  -1.1310824],\n",
       "       [ -9.437666 ,  -7.704795 ,  19.731789 , ..., -46.520103 ,\n",
       "        -10.213738 , -57.8384   ],\n",
       "       [-22.952368 ,  10.6097975,  -2.4324164, ...,  -4.754019 ,\n",
       "         -3.58991  , -20.33555  ],\n",
       "       ...,\n",
       "       [-38.223663 , -30.249804 , -31.184278 , ...,  -0.3993284,\n",
       "         -5.6503158,   2.6615837],\n",
       "       [-27.609121 , -33.723293 , -36.89914  , ..., -12.932463 ,\n",
       "         -3.1329288, -20.053225 ],\n",
       "       [-15.66322  , -36.655018 , -14.097047 , ..., -26.284243 ,\n",
       "        -13.795316 , -18.94752  ]], dtype=float32)>"
      ]
     },
     "execution_count": 24,
     "metadata": {},
     "output_type": "execute_result"
    }
   ],
   "source": [
    "model(x_test)"
   ]
  },
  {
   "cell_type": "code",
   "execution_count": 20,
   "id": "2cc7e0c7-a38d-440d-982d-9f1f5114c918",
   "metadata": {},
   "outputs": [],
   "source": [
    "probability_model = tf.keras.Sequential([\n",
    "  model,\n",
    "  tf.keras.layers.Softmax()\n",
    "])"
   ]
  },
  {
   "cell_type": "code",
   "execution_count": 21,
   "id": "4eae4358-63e0-4110-92b1-3431c0106470",
   "metadata": {},
   "outputs": [
    {
     "data": {
      "text/plain": [
       "<tf.Tensor: shape=(5, 10), dtype=float32, numpy=\n",
       "array([[1.86399420e-16, 1.09841030e-15, 1.28533198e-13, 2.39918137e-07,\n",
       "        5.07573616e-18, 8.12440566e-12, 3.45258177e-18, 9.99999523e-01,\n",
       "        1.82130745e-13, 1.90203991e-07],\n",
       "       [2.14717621e-13, 1.21462183e-12, 1.00000000e+00, 4.04313139e-13,\n",
       "        3.81846040e-38, 6.73486197e-11, 1.82519364e-12, 1.68719588e-29,\n",
       "        9.88145180e-14, 2.04970330e-34],\n",
       "       [2.65543601e-15, 9.99996781e-01, 2.16689205e-06, 8.74411932e-11,\n",
       "        4.10960403e-08, 3.78409221e-10, 2.66033107e-09, 2.12607404e-07,\n",
       "        6.80995413e-07, 3.63585064e-14],\n",
       "       [9.99999404e-01, 4.37350521e-14, 7.46889555e-08, 4.09163502e-11,\n",
       "        5.61363109e-12, 3.93886346e-09, 3.53740063e-07, 1.13734870e-07,\n",
       "        1.44044707e-11, 2.59497690e-09],\n",
       "       [1.12236815e-12, 9.57624877e-26, 6.54881661e-12, 1.09618226e-16,\n",
       "        9.98687565e-01, 5.26498841e-14, 3.60678043e-10, 2.35665034e-08,\n",
       "        4.56367366e-12, 1.31242140e-03]], dtype=float32)>"
      ]
     },
     "execution_count": 21,
     "metadata": {},
     "output_type": "execute_result"
    }
   ],
   "source": [
    "probability_model(x_test[:5])"
   ]
  }
 ],
 "metadata": {
  "kernelspec": {
   "display_name": "Python [conda env:root] *",
   "language": "python",
   "name": "conda-root-py"
  },
  "language_info": {
   "codemirror_mode": {
    "name": "ipython",
    "version": 3
   },
   "file_extension": ".py",
   "mimetype": "text/x-python",
   "name": "python",
   "nbconvert_exporter": "python",
   "pygments_lexer": "ipython3",
   "version": "3.7.11"
  }
 },
 "nbformat": 4,
 "nbformat_minor": 5
}
