{
 "cells": [
  {
   "cell_type": "code",
   "execution_count": 163,
   "id": "c44c735f-88be-4af6-90f5-90459f03cb3f",
   "metadata": {},
   "outputs": [],
   "source": [
    "import numpy as np\n",
    "from sklearn.datasets import load_iris\n",
    "from sklearn.model_selection import train_test_split\n",
    "from sklearn.pipeline import make_pipeline\n",
    "from sklearn.preprocessing import StandardScaler\n",
    "from sklearn.svm import LinearSVC\n",
    "from sklearn.ensemble import RandomForestClassifier"
   ]
  },
  {
   "cell_type": "code",
   "execution_count": 164,
   "id": "d860852a-8206-4fe8-ac73-05395ccb0137",
   "metadata": {},
   "outputs": [],
   "source": [
    "X, y = load_iris(return_X_y=True)\n",
    "X"
   ]
  },
  {
   "cell_type": "code",
   "execution_count": 166,
   "id": "aa6243f6-09b9-433f-9082-6ad130ab986f",
   "metadata": {},
   "outputs": [
    {
     "data": {
      "text/plain": [
       "3"
      ]
     },
     "execution_count": 166,
     "metadata": {},
     "output_type": "execute_result"
    }
   ],
   "source": [
    "len(set(y))"
   ]
  },
  {
   "cell_type": "code",
   "execution_count": 167,
   "id": "817c12a7-ce91-4999-b516-3627afa47727",
   "metadata": {},
   "outputs": [],
   "source": [
    "# Add noisy features\n",
    "random_state = np.random.RandomState(0)\n",
    "n_samples, n_features = X.shape\n",
    "\n",
    "noise=random_state.randn(n_samples, 20 * n_features)\n",
    "#noise=random_state.randn(2, 3 * 3)\n",
    "#print(noise)\n",
    "\n"
   ]
  },
  {
   "cell_type": "code",
   "execution_count": 168,
   "id": "954583e0-cf3d-4d4d-b805-ad358e69ae62",
   "metadata": {},
   "outputs": [],
   "source": [
    "\n",
    "X = np.concatenate([X, noise], axis=1)\n",
    "\n",
    "\n",
    "# Limit to the two first classes, and split into training and test\n",
    "X_train, X_test, y_train, y_test = train_test_split(\n",
    "    X, y, test_size=0.5, random_state=random_state\n",
    ")\n"
   ]
  },
  {
   "cell_type": "code",
   "execution_count": 169,
   "id": "da9420df-fbf9-42ee-8c6f-2799165fcecd",
   "metadata": {},
   "outputs": [
    {
     "data": {
      "text/plain": [
       "RandomForestClassifier(max_depth=2, max_features=3, n_estimators=500,\n",
       "                       random_state=0)"
      ]
     },
     "execution_count": 169,
     "metadata": {},
     "output_type": "execute_result"
    }
   ],
   "source": [
    "classifier = RandomForestClassifier(max_depth=2, random_state=0,n_estimators=500,max_features=3)\n",
    "\n",
    "# classifier = make_pipeline(StandardScaler(), LinearSVC(random_state=random_state))\n",
    "classifier.fit(X_train, y_train)"
   ]
  },
  {
   "cell_type": "code",
   "execution_count": 170,
   "id": "8841f7d5-a56f-40e7-9427-0c2485f7276e",
   "metadata": {},
   "outputs": [],
   "source": [
    "y_score = classifier.predict(X_test)"
   ]
  },
  {
   "cell_type": "code",
   "execution_count": 171,
   "id": "525fddea-072e-460f-8e58-6c7aabedf9d1",
   "metadata": {},
   "outputs": [
    {
     "data": {
      "text/plain": [
       "array([1, 0, 1, 1, 0, 0, 1, 1, 1, 1, 0, 0, 1, 0, 0, 1, 0, 0, 0, 1, 1, 0,\n",
       "       1, 1, 1, 1, 0, 1, 0, 1, 1, 1, 1, 1, 0, 0, 1, 1, 1, 1, 2, 1, 1, 0,\n",
       "       0, 0, 1, 0, 1, 1, 0, 1, 1, 0, 1, 1, 1, 0, 0, 1, 2, 1, 1, 2, 1, 0,\n",
       "       0, 1, 1, 1, 0, 1, 1, 1, 1])"
      ]
     },
     "execution_count": 171,
     "metadata": {},
     "output_type": "execute_result"
    }
   ],
   "source": [
    "y_score"
   ]
  },
  {
   "cell_type": "code",
   "execution_count": 172,
   "id": "c411dbf0-f892-489a-af9e-37c96a7fe27d",
   "metadata": {},
   "outputs": [
    {
     "data": {
      "text/plain": [
       "array([2, 0, 1, 1, 0, 0, 2, 1, 2, 2, 0, 0, 2, 0, 2, 1, 0, 0, 2, 1, 2, 0,\n",
       "       2, 2, 2, 2, 0, 1, 0, 2, 2, 2, 1, 1, 0, 0, 1, 1, 2, 1, 2, 1, 2, 0,\n",
       "       0, 0, 1, 0, 2, 1, 0, 2, 1, 0, 2, 2, 1, 0, 0, 1, 2, 1, 2, 2, 2, 0,\n",
       "       0, 1, 2, 1, 0, 2, 1, 1, 1])"
      ]
     },
     "execution_count": 172,
     "metadata": {},
     "output_type": "execute_result"
    }
   ],
   "source": [
    "y_test"
   ]
  },
  {
   "cell_type": "code",
   "execution_count": 173,
   "id": "47467478-cbc4-4fb2-9212-6c2576d04ae2",
   "metadata": {},
   "outputs": [],
   "source": [
    "from sklearn.metrics import precision_recall_curve\n",
    "from sklearn.metrics import average_precision_score\n",
    "from sklearn.metrics import recall_score\n",
    "from sklearn.metrics import precision_score\n",
    "n_classes = len(set(y))\n"
   ]
  },
  {
   "cell_type": "code",
   "execution_count": 174,
   "id": "7f7992b5-5eb5-4705-9db4-96eeebae6776",
   "metadata": {},
   "outputs": [
    {
     "data": {
      "text/plain": [
       "array([1.        , 1.        , 0.10714286])"
      ]
     },
     "execution_count": 174,
     "metadata": {},
     "output_type": "execute_result"
    }
   ],
   "source": [
    "recall = recall_score(y_test, y_score, average=None)\n",
    "recall"
   ]
  },
  {
   "cell_type": "code",
   "execution_count": 175,
   "id": "3938559a-044c-45cc-9121-ce68169524e3",
   "metadata": {},
   "outputs": [
    {
     "data": {
      "text/plain": [
       "array([0.92307692, 0.5       , 1.        ])"
      ]
     },
     "execution_count": 175,
     "metadata": {},
     "output_type": "execute_result"
    }
   ],
   "source": [
    "precision = precision_score(y_test, y_score, average=None)\n",
    "precision"
   ]
  },
  {
   "cell_type": "code",
   "execution_count": 176,
   "id": "aefe71c8-b366-4cd8-8797-070c2fcc6f28",
   "metadata": {},
   "outputs": [
    {
     "data": {
      "text/plain": [
       "0.6666666666666666"
      ]
     },
     "execution_count": 176,
     "metadata": {},
     "output_type": "execute_result"
    }
   ],
   "source": [
    "recall_micro = recall_score(y_test, y_score, average=\"micro\")\n",
    "recall_micro"
   ]
  },
  {
   "cell_type": "code",
   "execution_count": 177,
   "id": "6e0c16b4-df2f-4e6a-87c6-b68cecb36f16",
   "metadata": {},
   "outputs": [
    {
     "data": {
      "text/plain": [
       "0.6666666666666666"
      ]
     },
     "execution_count": 177,
     "metadata": {},
     "output_type": "execute_result"
    }
   ],
   "source": [
    "precision_micro = precision_score(y_test, y_score, average=\"micro\")\n",
    "precision_micro"
   ]
  },
  {
   "cell_type": "code",
   "execution_count": 178,
   "id": "21a4fb6e-3a79-4e38-b350-571920700734",
   "metadata": {},
   "outputs": [
    {
     "data": {
      "text/plain": [
       "0.7023809523809524"
      ]
     },
     "execution_count": 178,
     "metadata": {},
     "output_type": "execute_result"
    }
   ],
   "source": [
    "recall_macro = recall_score(y_test, y_score, average=\"macro\")\n",
    "recall_macro"
   ]
  },
  {
   "cell_type": "code",
   "execution_count": 179,
   "id": "0ff7c140-74c5-4e33-9957-2d397af8c580",
   "metadata": {},
   "outputs": [
    {
     "data": {
      "text/plain": [
       "0.8076923076923078"
      ]
     },
     "execution_count": 179,
     "metadata": {},
     "output_type": "execute_result"
    }
   ],
   "source": [
    "precision_macro = precision_score(y_test, y_score, average=\"macro\")\n",
    "precision_macro"
   ]
  }
 ],
 "metadata": {
  "kernelspec": {
   "display_name": "base",
   "language": "python",
   "name": "base"
  },
  "language_info": {
   "codemirror_mode": {
    "name": "ipython",
    "version": 3
   },
   "file_extension": ".py",
   "mimetype": "text/x-python",
   "name": "python",
   "nbconvert_exporter": "python",
   "pygments_lexer": "ipython3",
   "version": "3.7.11"
  }
 },
 "nbformat": 4,
 "nbformat_minor": 5
}
