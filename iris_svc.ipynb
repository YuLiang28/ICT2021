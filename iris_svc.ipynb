{
 "cells": [
  {
   "cell_type": "code",
   "execution_count": 1,
   "id": "c656f99c-174f-42d1-9e5d-27a8e6a90ea3",
   "metadata": {},
   "outputs": [],
   "source": [
    "from sklearn import datasets\n",
    "import numpy as np\n",
    "from sklearn.pipeline import make_pipeline\n",
    "from sklearn.preprocessing import StandardScaler\n",
    "from sklearn.svm import SVC\n",
    "from sklearn.model_selection import cross_val_score\n",
    "from sklearn.metrics import roc_auc_score\n",
    "from sklearn.model_selection import cross_validate\n",
    "from sklearn.model_selection import GridSearchCV"
   ]
  },
  {
   "cell_type": "code",
   "execution_count": 2,
   "id": "708bea0c-a8aa-4d3d-96d6-3ced87e51808",
   "metadata": {},
   "outputs": [],
   "source": [
    "iris = datasets.load_iris()\n",
    "X = iris.data[:,2:]\n",
    "y = iris.target\n",
    "y = np.array(y,dtype=\"float\")\n",
    "y = np.transpose([y])\n",
    "z = np.concatenate((X,y),axis=1)\n",
    "z = z[z[:,2] >0]\n",
    "X = z[:,0:2]\n",
    "y = z[:,2]\n",
    "\n",
    "\n"
   ]
  },
  {
   "cell_type": "code",
   "execution_count": 3,
   "id": "d758f21d-8413-46fb-af62-2cd168c57e0c",
   "metadata": {},
   "outputs": [
    {
     "name": "stdout",
     "output_type": "stream",
     "text": [
      "{'C': 1, 'gamma': 1, 'kernel': 'rbf'}\n",
      "0.9949999999999999\n",
      "SVC(C=1, gamma=1)\n"
     ]
    }
   ],
   "source": [
    "#clf_rbf = make_pipeline(StandardScaler(), SVC(kernel=\"rbf\",gamma='auto'))\n",
    "#clf_linear = make_pipeline(StandardScaler(), SVC(kernel=\"linear\",gamma='auto'))\n",
    "\n",
    "\n",
    "scaler = StandardScaler() # Standard\n",
    "\n",
    "scaler.fit(X)\n",
    "\n",
    "X = scaler.transform(X)\n",
    "\n",
    "#print(X)\n",
    "\n",
    "parameters = {'kernel':('linear', 'rbf'), 'C':[1, 10], 'gamma':[1,10,100]}\n",
    "\n",
    "svc = SVC()\n",
    "\n",
    "clf = GridSearchCV(svc, parameters, cv=5, scoring=\"roc_auc\")\n",
    "\n",
    "clf.fit(X, y)\n",
    "\n",
    "\n",
    "\n",
    "\n",
    "print(clf.best_params_)\n",
    "\n",
    "print(clf.best_score_)\n",
    "\n",
    "print(clf.best_estimator_)"
   ]
  },
  {
   "cell_type": "code",
   "execution_count": 99,
   "id": "d308b67d-5ad9-4f02-99e4-fb88aa0e2dc5",
   "metadata": {},
   "outputs": [
    {
     "name": "stdout",
     "output_type": "stream",
     "text": [
      "{'C': 0.5, 'gamma': 0.5, 'kernel': 'rbf'}\n",
      "0.9970000000000001\n"
     ]
    }
   ],
   "source": [
    "\n",
    "parameters = {'kernel':['rbf'], 'C':[0.5, 1, 1.5, 2], 'gamma':[0.5, 1, 1.5, 2]}\n",
    "\n",
    "svc = SVC()\n",
    "\n",
    "clf = GridSearchCV(svc, parameters, cv=5, scoring=\"roc_auc\")\n",
    "\n",
    "clf.fit(X, y)\n",
    "\n",
    "\n",
    "\n",
    "\n",
    "print(clf.best_params_)\n",
    "\n",
    "print(clf.best_score_)\n",
    "\n",
    "scores_rbf = cross_val_score(clf_rbf, X, y, cv=5,scoring=\"roc_auc\")\n",
    "scores_linear = cross_val_score(clf_linear, X, y, cv=5,scoring=\"roc_auc\")\n",
    "\n",
    "scores_rbf = cross_validate(clf_rbf, X, y, cv=5,scoring=\"roc_auc\")\n",
    "scores_linear = cross_validate(clf_linear, X, y, cv=5,scoring=\"roc_auc\")"
   ]
  },
  {
   "cell_type": "code",
   "execution_count": 82,
   "id": "75d1779f-e86c-4dbd-917b-d94e034ac023",
   "metadata": {},
   "outputs": [
    {
     "data": {
      "text/plain": [
       "{'fit_time': array([0.0019958 , 0.00099683, 0.00099754, 0.00199676, 0.0009985 ]),\n",
       " 'score_time': array([0.00199246, 0.00099707, 0.00099659, 0.00299573, 0.00199318]),\n",
       " 'test_score': array([1.   , 1.   , 0.985, 0.99 , 1.   ])}"
      ]
     },
     "execution_count": 82,
     "metadata": {},
     "output_type": "execute_result"
    }
   ],
   "source": [
    "scores_rbf"
   ]
  },
  {
   "cell_type": "code",
   "execution_count": 83,
   "id": "b83a65b3-1db5-4eab-9fd1-36f1ebe44fdf",
   "metadata": {},
   "outputs": [
    {
     "data": {
      "text/plain": [
       "{'fit_time': array([0.00099683, 0.00099707, 0.00099826, 0.00099826, 0.00099659]),\n",
       " 'score_time': array([0.00099754, 0.0009973 , 0.00199533, 0.00099754, 0.0009973 ]),\n",
       " 'test_score': array([0.98 , 1.   , 0.985, 0.98 , 1.   ])}"
      ]
     },
     "execution_count": 83,
     "metadata": {},
     "output_type": "execute_result"
    }
   ],
   "source": [
    "scores_linear"
   ]
  },
  {
   "cell_type": "code",
   "execution_count": 84,
   "id": "30e71e9c-6c3a-4f16-ac4a-e438390af975",
   "metadata": {},
   "outputs": [
    {
     "data": {
      "text/plain": [
       "Pipeline(steps=[('standardscaler', StandardScaler()),\n",
       "                ('svc', SVC(gamma='auto', kernel='linear'))])"
      ]
     },
     "execution_count": 84,
     "metadata": {},
     "output_type": "execute_result"
    }
   ],
   "source": [
    "clf_rbf.fit(X, y)\n",
    "clf_linear.fit(X, y)"
   ]
  }
 ],
 "metadata": {
  "interpreter": {
   "hash": "f47bde7ef2b93832682786680414f3ac77ee4fd1c8723be506a809883addf870"
  },
  "kernelspec": {
   "display_name": "Python 3 (ipykernel)",
   "language": "python",
   "name": "python3"
  },
  "language_info": {
   "codemirror_mode": {
    "name": "ipython",
    "version": 3
   },
   "file_extension": ".py",
   "mimetype": "text/x-python",
   "name": "python",
   "nbconvert_exporter": "python",
   "pygments_lexer": "ipython3",
   "version": "3.7.11"
  }
 },
 "nbformat": 4,
 "nbformat_minor": 5
}
